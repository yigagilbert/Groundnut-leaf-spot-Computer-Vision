{
  "nbformat": 4,
  "nbformat_minor": 0,
  "metadata": {
    "colab": {
      "provenance": [],
      "gpuType": "T4"
    },
    "kernelspec": {
      "name": "python3",
      "display_name": "Python 3"
    },
    "language_info": {
      "name": "python"
    },
    "accelerator": "GPU"
  },
  "cells": [
    {
      "cell_type": "code",
      "source": [
        "import cv2\n",
        "import numpy as np\n",
        "import os\n",
        "import matplotlib.pyplot as plt\n",
        "from skimage import io"
      ],
      "metadata": {
        "id": "u_RTxmDqIJpc"
      },
      "execution_count": null,
      "outputs": []
    },
    {
      "cell_type": "code",
      "source": [
        "def load_image(image_path, img_size=(224, 224)):\n",
        "    \"\"\"Loads and resizes an image.\"\"\"\n",
        "    img = cv2.imread(image_path)\n",
        "    img_resized = cv2.resize(img, img_size)\n",
        "    return img_resized"
      ],
      "metadata": {
        "id": "DzN6-WOiINRf"
      },
      "execution_count": null,
      "outputs": []
    },
    {
      "cell_type": "code",
      "source": [
        "def extract_sift_features(image):\n",
        "    \"\"\"Extract SIFT (Scale-Invariant Feature Transform) features.\"\"\"\n",
        "    gray = cv2.cvtColor(image, cv2.COLOR_BGR2GRAY)\n",
        "    sift = cv2.SIFT_create()\n",
        "    keypoints, descriptors = sift.detectAndCompute(gray, None)\n",
        "    return keypoints, descriptors"
      ],
      "metadata": {
        "id": "sulJ8VVGIQ5U"
      },
      "execution_count": null,
      "outputs": []
    },
    {
      "cell_type": "code",
      "source": [
        "def extract_kaze_features(image):\n",
        "    \"\"\"Extract features using an alternative method (KAZE).\"\"\"\n",
        "    gray = cv2.cvtColor(image, cv2.COLOR_BGR2GRAY)\n",
        "    kaze = cv2.KAZE_create()\n",
        "    keypoints, descriptors = kaze.detectAndCompute(gray, None)\n",
        "    return keypoints, descriptors"
      ],
      "metadata": {
        "id": "Qg9FvEzwIU75"
      },
      "execution_count": null,
      "outputs": []
    },
    {
      "cell_type": "code",
      "source": [
        "def extract_orb_features(image):\n",
        "    \"\"\"Extract ORB (Oriented FAST and Rotated BRIEF) features.\"\"\"\n",
        "    gray = cv2.cvtColor(image, cv2.COLOR_BGR2GRAY)\n",
        "    orb = cv2.ORB_create()\n",
        "    keypoints, descriptors = orb.detectAndCompute(gray, None)\n",
        "    return keypoints, descriptors"
      ],
      "metadata": {
        "id": "bZfrBNFuISsG"
      },
      "execution_count": null,
      "outputs": []
    },
    {
      "cell_type": "code",
      "source": [
        "def visualize_features(image, keypoints, method_name=\"Method\"):\n",
        "    \"\"\"Visualizes the detected features on the image.\"\"\"\n",
        "    img_with_keypoints = cv2.drawKeypoints(image, keypoints, None)\n",
        "    plt.figure(figsize=(10, 8))\n",
        "    plt.imshow(cv2.cvtColor(img_with_keypoints, cv2.COLOR_BGR2RGB))\n",
        "    plt.title(f\"Detected Keypoints using {method_name}\")\n",
        "    plt.show()"
      ],
      "metadata": {
        "id": "A3L-BcDCIY-P"
      },
      "execution_count": null,
      "outputs": []
    },
    {
      "cell_type": "code",
      "source": [
        "image_path = \"/content/DSC05669.JPG\"  # Change to your image path\n",
        "image = load_image(image_path)"
      ],
      "metadata": {
        "id": "CsFwfAc3IpGm"
      },
      "execution_count": null,
      "outputs": []
    },
    {
      "cell_type": "code",
      "source": [
        "# Extract features using SIFT, SURF, and ORB\n",
        "sift_keypoints, sift_descriptors = extract_sift_features(image)\n",
        "kaze_keypoints, kaze_descriptors = extract_kaze_features(image)\n",
        "orb_keypoints, orb_descriptors = extract_orb_features(image)"
      ],
      "metadata": {
        "id": "LA25ttdwIrBf"
      },
      "execution_count": null,
      "outputs": []
    },
    {
      "cell_type": "code",
      "source": [
        "# Visualize the features\n",
        "visualize_features(image, sift_keypoints, method_name=\"SIFT\")\n",
        "visualize_features(image, kaze_keypoints, method_name=\"KAZE\")\n",
        "visualize_features(image, orb_keypoints, method_name=\"ORB\")"
      ],
      "metadata": {
        "id": "zKn0DxRhIs29"
      },
      "execution_count": null,
      "outputs": []
    },
    {
      "cell_type": "code",
      "execution_count": null,
      "metadata": {
        "id": "by-Q3qPKIB2x"
      },
      "outputs": [],
      "source": [
        "# Print the descriptors (Optional, depending on your use case)\n",
        "print(\"SIFT Descriptors:\", sift_descriptors.shape)\n",
        "print(\"KAZE Descriptors:\", kaze_descriptors.shape)\n",
        "print(\"ORB Descriptors:\", orb_descriptors.shape)"
      ]
    }
  ]
}