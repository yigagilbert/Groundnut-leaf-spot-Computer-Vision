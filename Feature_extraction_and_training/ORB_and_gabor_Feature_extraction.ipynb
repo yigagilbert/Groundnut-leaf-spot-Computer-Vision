{
  "nbformat": 4,
  "nbformat_minor": 0,
  "metadata": {
    "colab": {
      "provenance": []
    },
    "kernelspec": {
      "name": "python3",
      "display_name": "Python 3"
    },
    "language_info": {
      "name": "python"
    }
  },
  "cells": [
    {
      "cell_type": "code",
      "execution_count": null,
      "metadata": {
        "colab": {
          "base_uri": "https://localhost:8080/"
        },
        "id": "2oZ9KRbqm2dn",
        "outputId": "b0919d89-714e-4ef0-8369-2ac8e4a4c7d0"
      },
      "outputs": [
        {
          "output_type": "stream",
          "name": "stdout",
          "text": [
            "Mounted at /content/drive\n"
          ]
        }
      ],
      "source": [
        "from google.colab import drive\n",
        "drive.mount('/content/drive')"
      ]
    },
    {
      "cell_type": "code",
      "source": [
        "import os\n",
        "dataset_path = '/content/drive/MyDrive/Leaf_Spot/Leaf Spot'\n",
        "os.chdir(dataset_path)"
      ],
      "metadata": {
        "id": "YKijjceCm-94"
      },
      "execution_count": null,
      "outputs": []
    },
    {
      "cell_type": "code",
      "source": [
        "import os\n",
        "from collections import Counter\n",
        "import torch\n",
        "import torch.nn as nn\n",
        "import torch.optim as optim\n",
        "from torch.utils.data import Dataset, DataLoader\n",
        "from torchvision import transforms\n",
        "from PIL import Image\n",
        "from sklearn.metrics import confusion_matrix, classification_report, precision_score, recall_score, f1_score\n",
        "from sklearn.utils.class_weight import compute_class_weight\n",
        "import matplotlib.pyplot as plt\n",
        "import seaborn as sns\n",
        "import numpy as np\n",
        "\n",
        "# Load data\n",
        "def load_data_from_directories(train_dir='train', test_dir='test'):\n",
        "    train_image_paths = []\n",
        "    train_labels = []\n",
        "\n",
        "    # Process training data\n",
        "    for cls in os.listdir(train_dir):\n",
        "        cls_path = os.path.join(train_dir, cls)\n",
        "        if os.path.isdir(cls_path):\n",
        "            for img_name in os.listdir(cls_path):\n",
        "                img_path = os.path.join(cls_path, img_name)\n",
        "                if img_path.lower().endswith(('.png', '.jpg', '.jpeg')):\n",
        "                    train_image_paths.append(img_path)\n",
        "                    class_number = int(cls.split()[-1]) - 1  # Convert to 0-indexed\n",
        "                    train_labels.append(class_number)\n",
        "\n",
        "    print(f\"Found {len(train_image_paths)} training images\")\n",
        "    print(f\"Class distribution: {Counter(train_labels)}\")\n",
        "\n",
        "    return train_image_paths, train_labels\n",
        "\n",
        "\n",
        "def load_test_data_with_subdirs(test_dir='test'):\n",
        "    test_image_paths = []\n",
        "    test_labels = []\n",
        "    label_mapping = {}\n",
        "    current_label = 0\n",
        "\n",
        "    # Process test data\n",
        "    for cls in os.listdir(test_dir):\n",
        "        cls_path = os.path.join(test_dir, cls)\n",
        "        if os.path.isdir(cls_path):\n",
        "            if cls not in label_mapping:\n",
        "                label_mapping[cls] = current_label\n",
        "                current_label += 1\n",
        "            class_number = label_mapping[cls]\n",
        "\n",
        "            for img_name in os.listdir(cls_path):\n",
        "                img_path = os.path.join(cls_path, img_name)\n",
        "                if img_path.lower().endswith(('.png', '.jpg', '.jpeg')):\n",
        "                    test_image_paths.append(img_path)\n",
        "                    test_labels.append(class_number)\n",
        "\n",
        "    print(f\"Found {len(test_image_paths)} test images\")\n",
        "    print(f\"Class distribution: {Counter(test_labels)}\")\n",
        "\n",
        "    return test_image_paths, test_labels"
      ],
      "metadata": {
        "id": "y6EM19mBnL9x"
      },
      "execution_count": null,
      "outputs": []
    },
    {
      "cell_type": "code",
      "source": [
        "import cv2\n",
        "import numpy as np\n",
        "from sklearn.cluster import MiniBatchKMeans\n",
        "from tqdm import tqdm\n",
        "\n",
        "def fit_orb_bovw(\n",
        "    image_paths,\n",
        "    n_clusters=50,\n",
        "    image_size=(128, 128),\n",
        "    max_keypoints=100\n",
        "):\n",
        "    orb = cv2.ORB_create(nfeatures=max_keypoints)\n",
        "    descriptors_list = []\n",
        "\n",
        "    for img_path in tqdm(image_paths, desc=\"Fitting BoVW\"):\n",
        "        try:\n",
        "            # Load and preprocess image\n",
        "            img = cv2.imread(img_path, cv2.IMREAD_GRAYSCALE)\n",
        "            if img is None:\n",
        "                continue\n",
        "            img = cv2.resize(img, image_size)\n",
        "\n",
        "            # Detect keypoints and descriptors\n",
        "            keypoints, des = orb.detectAndCompute(img, None)\n",
        "            if des is not None:\n",
        "                descriptors_list.append(des)\n",
        "        except Exception as e:\n",
        "            print(f\"Error processing {img_path}: {str(e)}\")\n",
        "\n",
        "    # Stack all descriptors\n",
        "    all_descriptors = np.vstack(descriptors_list)\n",
        "\n",
        "    # MiniBatch K-Means for efficiency\n",
        "    kmeans = MiniBatchKMeans(\n",
        "        n_clusters=n_clusters,\n",
        "        random_state=42,\n",
        "        batch_size=1024\n",
        "    )\n",
        "    kmeans.fit(all_descriptors)\n",
        "    return kmeans\n",
        "\n",
        "def extract_orb_features(image_paths, kmeans, n_clusters=50):\n",
        "    orb = cv2.ORB_create()\n",
        "    features = []\n",
        "\n",
        "    for img_path in tqdm(image_paths, desc=\"Extracting ORB features\"):\n",
        "        try:\n",
        "            # Load and preprocess image\n",
        "            img = cv2.imread(img_path, cv2.IMREAD_GRAYSCALE)\n",
        "            if img is None:\n",
        "                features.append(np.zeros(n_clusters))\n",
        "                continue\n",
        "            img = cv2.resize(img, (128, 128))\n",
        "\n",
        "            # Detect keypoints and descriptors\n",
        "            keypoints, des = orb.detectAndCompute(img, None)\n",
        "            if des is not None:\n",
        "                # Assign descriptors to clusters\n",
        "                hist = np.histogram(kmeans.predict(des), bins=range(n_clusters+1))[0]\n",
        "                features.append(hist)\n",
        "            else:\n",
        "                features.append(np.zeros(n_clusters))\n",
        "        except Exception as e:\n",
        "            features.append(np.zeros(n_clusters))\n",
        "            print(f\"Error processing {img_path}: {str(e)}\")\n",
        "\n",
        "    return np.array(features)"
      ],
      "metadata": {
        "id": "C4rFFcHEnPAZ"
      },
      "execution_count": null,
      "outputs": []
    },
    {
      "cell_type": "code",
      "source": [
        "# Load data\n",
        "train_image_paths, train_labels = load_data_from_directories(train_dir='train')\n",
        "test_image_paths, test_labels = load_test_data_with_subdirs(test_dir='test')\n",
        "\n",
        "# Build BoVW on a subset of training data (to save memory)\n",
        "subset_image_paths = train_image_paths[:100]  # Adjust subset size\n",
        "kmeans_orb = fit_orb_bovw(\n",
        "    subset_image_paths,\n",
        "    n_clusters=50,\n",
        "    image_size=(128, 128),\n",
        "    max_keypoints=100\n",
        ")\n",
        "\n",
        "# Extract ORB features for all images\n",
        "train_orb = extract_orb_features(train_image_paths, kmeans_orb, n_clusters=50)\n",
        "test_orb = extract_orb_features(test_image_paths, kmeans_orb, n_clusters=50)\n",
        "\n",
        "print(f\"Train ORB features shape: {train_orb.shape}\")\n",
        "print(f\"Test ORB features shape: {test_orb.shape}\")"
      ],
      "metadata": {
        "colab": {
          "base_uri": "https://localhost:8080/"
        },
        "id": "Bs_aVYTQqvDw",
        "outputId": "4ca9ac18-9a3b-4c47-e3dd-30c126b075e1"
      },
      "execution_count": null,
      "outputs": [
        {
          "output_type": "stream",
          "name": "stdout",
          "text": [
            "Found 242 training images\n",
            "Class distribution: Counter({5: 57, 4: 51, 2: 43, 1: 36, 0: 32, 3: 23})\n",
            "Found 31 test images\n",
            "Class distribution: Counter({5: 8, 0: 5, 2: 5, 4: 5, 1: 4, 3: 4})\n"
          ]
        },
        {
          "output_type": "stream",
          "name": "stderr",
          "text": [
            "Fitting BoVW: 100%|██████████| 100/100 [01:53<00:00,  1.14s/it]\n",
            "Extracting ORB features: 100%|██████████| 242/242 [02:42<00:00,  1.49it/s]\n",
            "Extracting ORB features: 100%|██████████| 31/31 [00:36<00:00,  1.19s/it]"
          ]
        },
        {
          "output_type": "stream",
          "name": "stdout",
          "text": [
            "Train ORB features shape: (242, 50)\n",
            "Test ORB features shape: (31, 50)\n"
          ]
        },
        {
          "output_type": "stream",
          "name": "stderr",
          "text": [
            "\n"
          ]
        }
      ]
    },
    {
      "cell_type": "code",
      "source": [
        "from sklearn.svm import SVC\n",
        "from sklearn.preprocessing import StandardScaler\n",
        "from sklearn.metrics import accuracy_score, classification_report\n",
        "\n",
        "# Scale features\n",
        "scaler = StandardScaler()\n",
        "X_train_scaled = scaler.fit_transform(train_orb)\n",
        "X_test_scaled = scaler.transform(test_orb)\n",
        "\n",
        "# Train SVM\n",
        "svm = SVC(kernel='rbf', class_weight='balanced', random_state=42)\n",
        "svm.fit(X_train_scaled, train_labels)\n",
        "\n",
        "# Evaluate\n",
        "preds = svm.predict(X_test_scaled)\n",
        "print(f\"Accuracy: {accuracy_score(test_labels, preds):.2f}\")\n",
        "print(classification_report(test_labels, preds))"
      ],
      "metadata": {
        "colab": {
          "base_uri": "https://localhost:8080/"
        },
        "id": "puVkHXAiqx30",
        "outputId": "1c5b936e-bef0-46d9-abba-45fcbd231fa0"
      },
      "execution_count": null,
      "outputs": [
        {
          "output_type": "stream",
          "name": "stdout",
          "text": [
            "Accuracy: 0.42\n",
            "              precision    recall  f1-score   support\n",
            "\n",
            "           0       0.17      0.20      0.18         5\n",
            "           1       0.29      0.50      0.36         4\n",
            "           2       0.33      0.20      0.25         5\n",
            "           3       0.33      0.25      0.29         4\n",
            "           4       0.75      0.60      0.67         5\n",
            "           5       0.62      0.62      0.62         8\n",
            "\n",
            "    accuracy                           0.42        31\n",
            "   macro avg       0.42      0.40      0.40        31\n",
            "weighted avg       0.44      0.42      0.42        31\n",
            "\n"
          ]
        }
      ]
    },
    {
      "cell_type": "code",
      "source": [
        "from sklearn.svm import SVC\n",
        "from sklearn.ensemble import RandomForestClassifier, AdaBoostClassifier, VotingClassifier\n",
        "from sklearn.neighbors import KNeighborsClassifier\n",
        "from sklearn.linear_model import LogisticRegression\n",
        "from xgboost import XGBClassifier\n",
        "from sklearn.preprocessing import StandardScaler\n",
        "from sklearn.metrics import accuracy_score, classification_report"
      ],
      "metadata": {
        "id": "Dq7YyYIvtI18"
      },
      "execution_count": null,
      "outputs": []
    },
    {
      "cell_type": "code",
      "source": [
        "models = {\n",
        "    # Traditional ML\n",
        "    \"SVM\": SVC(kernel='rbf', class_weight='balanced', probability=True, random_state=42),\n",
        "    \"SVM-poly\": SVC(kernel='poly', class_weight='balanced', probability=True, random_state=42),\n",
        "    \"SVM-linear\": SVC(kernel='linear', class_weight='balanced', probability=True, random_state=42),\n",
        "    \"Logistic Regression\": LogisticRegression(class_weight='balanced', max_iter=1000, random_state=42),\n",
        "    \"K-Nearest Neighbors\": KNeighborsClassifier(n_neighbors=5),\n",
        "\n",
        "    # Ensemble Learning\n",
        "    \"Random Forest\": RandomForestClassifier(n_estimators=100, class_weight='balanced', random_state=42),\n",
        "    # \"AdaBoost\": AdaBoostClassifier(\n",
        "    #     base_estimator=DecisionTreeClassifier(max_depth=1, class_weight='balanced'),\n",
        "    #     n_estimators=50,\n",
        "    #     random_state=42\n",
        "    # ),\n",
        "    \"XGBoost\": XGBClassifier(\n",
        "        use_label_encoder=False,\n",
        "        eval_metric='mlogloss',\n",
        "        scale_pos_weight=1,  # Adjust if binary classification\n",
        "        random_state=42\n",
        "    ),\n",
        "\n",
        "    # Meta-Ensemble\n",
        "    \"Voting Classifier\": VotingClassifier(\n",
        "        estimators=[\n",
        "            ('svm', SVC(kernel='rbf', class_weight='balanced', probability=True)),\n",
        "            ('rf', RandomForestClassifier(n_estimators=100, class_weight='balanced')),\n",
        "            ('xgb', XGBClassifier(use_label_encoder=False, eval_metric='mlogloss'))\n",
        "        ],\n",
        "        voting='soft'\n",
        "    )\n",
        "}"
      ],
      "metadata": {
        "id": "6HU0eAC7tFW7"
      },
      "execution_count": null,
      "outputs": []
    },
    {
      "cell_type": "code",
      "source": [
        "results = []\n",
        "\n",
        "for name, model in models.items():\n",
        "    print(f\"Training {name}...\")\n",
        "    model.fit(X_train_scaled, train_labels)\n",
        "    preds = model.predict(X_test_scaled)\n",
        "\n",
        "    accuracy = accuracy_score(test_labels, preds)\n",
        "    report = classification_report(test_labels, preds, output_dict=True)\n",
        "\n",
        "    results.append({\n",
        "        \"Model\": name,\n",
        "        \"Accuracy\": round(accuracy, 2),\n",
        "        \"Precision\": round(report['weighted avg']['precision'], 2),\n",
        "        \"Recall\": round(report['weighted avg']['recall'], 2),\n",
        "        \"F1-Score\": round(report['weighted avg']['f1-score'], 2)\n",
        "    })\n",
        "\n",
        "    print(f\"\\n{name} Results:\")\n",
        "    print(f\"Accuracy: {accuracy:.2f}\")\n",
        "    print(classification_report(test_labels, preds))\n",
        "    print(\"-\" * 60)"
      ],
      "metadata": {
        "colab": {
          "base_uri": "https://localhost:8080/"
        },
        "id": "f9vFFMxWtNNm",
        "outputId": "3c8bf449-e859-49d0-abcf-c9b7421b00b8"
      },
      "execution_count": null,
      "outputs": [
        {
          "output_type": "stream",
          "name": "stdout",
          "text": [
            "Training SVM...\n",
            "\n",
            "SVM Results:\n",
            "Accuracy: 0.42\n",
            "              precision    recall  f1-score   support\n",
            "\n",
            "           0       0.17      0.20      0.18         5\n",
            "           1       0.29      0.50      0.36         4\n",
            "           2       0.33      0.20      0.25         5\n",
            "           3       0.33      0.25      0.29         4\n",
            "           4       0.75      0.60      0.67         5\n",
            "           5       0.62      0.62      0.62         8\n",
            "\n",
            "    accuracy                           0.42        31\n",
            "   macro avg       0.42      0.40      0.40        31\n",
            "weighted avg       0.44      0.42      0.42        31\n",
            "\n",
            "------------------------------------------------------------\n",
            "Training SVM-poly...\n",
            "\n",
            "SVM-poly Results:\n",
            "Accuracy: 0.29\n",
            "              precision    recall  f1-score   support\n",
            "\n",
            "           0       0.00      0.00      0.00         5\n",
            "           1       0.00      0.00      0.00         4\n",
            "           2       0.12      0.20      0.15         5\n",
            "           3       0.00      0.00      0.00         4\n",
            "           4       0.50      0.20      0.29         5\n",
            "           5       0.39      0.88      0.54         8\n",
            "\n",
            "    accuracy                           0.29        31\n",
            "   macro avg       0.17      0.21      0.16        31\n",
            "weighted avg       0.20      0.29      0.21        31\n",
            "\n",
            "------------------------------------------------------------\n",
            "Training SVM-linear...\n",
            "\n",
            "SVM-linear Results:\n",
            "Accuracy: 0.35\n",
            "              precision    recall  f1-score   support\n",
            "\n",
            "           0       0.20      0.20      0.20         5\n",
            "           1       0.14      0.25      0.18         4\n",
            "           2       1.00      0.40      0.57         5\n",
            "           3       0.00      0.00      0.00         4\n",
            "           4       0.33      0.60      0.43         5\n",
            "           5       0.57      0.50      0.53         8\n",
            "\n",
            "    accuracy                           0.35        31\n",
            "   macro avg       0.37      0.33      0.32        31\n",
            "weighted avg       0.41      0.35      0.35        31\n",
            "\n",
            "------------------------------------------------------------\n",
            "Training Logistic Regression...\n",
            "\n",
            "Logistic Regression Results:\n",
            "Accuracy: 0.29\n",
            "              precision    recall  f1-score   support\n",
            "\n",
            "           0       0.17      0.20      0.18         5\n",
            "           1       0.00      0.00      0.00         4\n",
            "           2       0.50      0.40      0.44         5\n",
            "           3       0.67      0.50      0.57         4\n",
            "           4       0.29      0.40      0.33         5\n",
            "           5       0.33      0.25      0.29         8\n",
            "\n",
            "    accuracy                           0.29        31\n",
            "   macro avg       0.33      0.29      0.30        31\n",
            "weighted avg       0.33      0.29      0.30        31\n",
            "\n",
            "------------------------------------------------------------\n",
            "Training K-Nearest Neighbors...\n",
            "\n",
            "K-Nearest Neighbors Results:\n",
            "Accuracy: 0.35\n",
            "              precision    recall  f1-score   support\n",
            "\n",
            "           0       0.14      0.20      0.17         5\n",
            "           1       0.20      0.25      0.22         4\n",
            "           2       0.67      0.40      0.50         5\n",
            "           3       0.33      0.25      0.29         4\n",
            "           4       0.50      0.80      0.62         5\n",
            "           5       0.40      0.25      0.31         8\n",
            "\n",
            "    accuracy                           0.35        31\n",
            "   macro avg       0.37      0.36      0.35        31\n",
            "weighted avg       0.38      0.35      0.35        31\n",
            "\n",
            "------------------------------------------------------------\n",
            "Training Random Forest...\n"
          ]
        },
        {
          "output_type": "stream",
          "name": "stderr",
          "text": [
            "/usr/local/lib/python3.11/dist-packages/sklearn/metrics/_classification.py:1565: UndefinedMetricWarning: Precision is ill-defined and being set to 0.0 in labels with no predicted samples. Use `zero_division` parameter to control this behavior.\n",
            "  _warn_prf(average, modifier, f\"{metric.capitalize()} is\", len(result))\n",
            "/usr/local/lib/python3.11/dist-packages/sklearn/metrics/_classification.py:1565: UndefinedMetricWarning: Precision is ill-defined and being set to 0.0 in labels with no predicted samples. Use `zero_division` parameter to control this behavior.\n",
            "  _warn_prf(average, modifier, f\"{metric.capitalize()} is\", len(result))\n",
            "/usr/local/lib/python3.11/dist-packages/sklearn/metrics/_classification.py:1565: UndefinedMetricWarning: Precision is ill-defined and being set to 0.0 in labels with no predicted samples. Use `zero_division` parameter to control this behavior.\n",
            "  _warn_prf(average, modifier, f\"{metric.capitalize()} is\", len(result))\n",
            "/usr/local/lib/python3.11/dist-packages/sklearn/metrics/_classification.py:1565: UndefinedMetricWarning: Precision is ill-defined and being set to 0.0 in labels with no predicted samples. Use `zero_division` parameter to control this behavior.\n",
            "  _warn_prf(average, modifier, f\"{metric.capitalize()} is\", len(result))\n",
            "/usr/local/lib/python3.11/dist-packages/sklearn/metrics/_classification.py:1565: UndefinedMetricWarning: Precision is ill-defined and being set to 0.0 in labels with no predicted samples. Use `zero_division` parameter to control this behavior.\n",
            "  _warn_prf(average, modifier, f\"{metric.capitalize()} is\", len(result))\n",
            "/usr/local/lib/python3.11/dist-packages/sklearn/metrics/_classification.py:1565: UndefinedMetricWarning: Precision is ill-defined and being set to 0.0 in labels with no predicted samples. Use `zero_division` parameter to control this behavior.\n",
            "  _warn_prf(average, modifier, f\"{metric.capitalize()} is\", len(result))\n",
            "/usr/local/lib/python3.11/dist-packages/xgboost/core.py:158: UserWarning: [19:24:36] WARNING: /workspace/src/learner.cc:740: \n",
            "Parameters: { \"scale_pos_weight\", \"use_label_encoder\" } are not used.\n",
            "\n",
            "  warnings.warn(smsg, UserWarning)\n"
          ]
        },
        {
          "output_type": "stream",
          "name": "stdout",
          "text": [
            "\n",
            "Random Forest Results:\n",
            "Accuracy: 0.39\n",
            "              precision    recall  f1-score   support\n",
            "\n",
            "           0       0.33      0.20      0.25         5\n",
            "           1       0.50      0.25      0.33         4\n",
            "           2       0.00      0.00      0.00         5\n",
            "           3       0.00      0.00      0.00         4\n",
            "           4       0.42      1.00      0.59         5\n",
            "           5       0.42      0.62      0.50         8\n",
            "\n",
            "    accuracy                           0.39        31\n",
            "   macro avg       0.28      0.35      0.28        31\n",
            "weighted avg       0.29      0.39      0.31        31\n",
            "\n",
            "------------------------------------------------------------\n",
            "Training XGBoost...\n"
          ]
        },
        {
          "output_type": "stream",
          "name": "stderr",
          "text": [
            "/usr/local/lib/python3.11/dist-packages/sklearn/metrics/_classification.py:1565: UndefinedMetricWarning: Precision is ill-defined and being set to 0.0 in labels with no predicted samples. Use `zero_division` parameter to control this behavior.\n",
            "  _warn_prf(average, modifier, f\"{metric.capitalize()} is\", len(result))\n",
            "/usr/local/lib/python3.11/dist-packages/sklearn/metrics/_classification.py:1565: UndefinedMetricWarning: Precision is ill-defined and being set to 0.0 in labels with no predicted samples. Use `zero_division` parameter to control this behavior.\n",
            "  _warn_prf(average, modifier, f\"{metric.capitalize()} is\", len(result))\n",
            "/usr/local/lib/python3.11/dist-packages/sklearn/metrics/_classification.py:1565: UndefinedMetricWarning: Precision is ill-defined and being set to 0.0 in labels with no predicted samples. Use `zero_division` parameter to control this behavior.\n",
            "  _warn_prf(average, modifier, f\"{metric.capitalize()} is\", len(result))\n",
            "/usr/local/lib/python3.11/dist-packages/sklearn/metrics/_classification.py:1565: UndefinedMetricWarning: Precision is ill-defined and being set to 0.0 in labels with no predicted samples. Use `zero_division` parameter to control this behavior.\n",
            "  _warn_prf(average, modifier, f\"{metric.capitalize()} is\", len(result))\n",
            "/usr/local/lib/python3.11/dist-packages/sklearn/metrics/_classification.py:1565: UndefinedMetricWarning: Precision is ill-defined and being set to 0.0 in labels with no predicted samples. Use `zero_division` parameter to control this behavior.\n",
            "  _warn_prf(average, modifier, f\"{metric.capitalize()} is\", len(result))\n",
            "/usr/local/lib/python3.11/dist-packages/sklearn/metrics/_classification.py:1565: UndefinedMetricWarning: Precision is ill-defined and being set to 0.0 in labels with no predicted samples. Use `zero_division` parameter to control this behavior.\n",
            "  _warn_prf(average, modifier, f\"{metric.capitalize()} is\", len(result))\n"
          ]
        },
        {
          "output_type": "stream",
          "name": "stdout",
          "text": [
            "\n",
            "XGBoost Results:\n",
            "Accuracy: 0.39\n",
            "              precision    recall  f1-score   support\n",
            "\n",
            "           0       0.67      0.40      0.50         5\n",
            "           1       0.50      0.75      0.60         4\n",
            "           2       0.14      0.20      0.17         5\n",
            "           3       0.00      0.00      0.00         4\n",
            "           4       0.14      0.20      0.17         5\n",
            "           5       0.62      0.62      0.62         8\n",
            "\n",
            "    accuracy                           0.39        31\n",
            "   macro avg       0.35      0.36      0.34        31\n",
            "weighted avg       0.38      0.39      0.37        31\n",
            "\n",
            "------------------------------------------------------------\n",
            "Training Voting Classifier...\n",
            "\n",
            "Voting Classifier Results:\n",
            "Accuracy: 0.52\n",
            "              precision    recall  f1-score   support\n",
            "\n",
            "           0       0.67      0.40      0.50         5\n",
            "           1       0.60      0.75      0.67         4\n",
            "           2       0.33      0.20      0.25         5\n",
            "           3       0.00      0.00      0.00         4\n",
            "           4       0.38      0.60      0.46         5\n",
            "           5       0.58      0.88      0.70         8\n",
            "\n",
            "    accuracy                           0.52        31\n",
            "   macro avg       0.43      0.47      0.43        31\n",
            "weighted avg       0.45      0.52      0.46        31\n",
            "\n",
            "------------------------------------------------------------\n"
          ]
        },
        {
          "output_type": "stream",
          "name": "stderr",
          "text": [
            "/usr/local/lib/python3.11/dist-packages/xgboost/core.py:158: UserWarning: [19:24:36] WARNING: /workspace/src/learner.cc:740: \n",
            "Parameters: { \"use_label_encoder\" } are not used.\n",
            "\n",
            "  warnings.warn(smsg, UserWarning)\n",
            "/usr/local/lib/python3.11/dist-packages/sklearn/metrics/_classification.py:1565: UndefinedMetricWarning: Precision is ill-defined and being set to 0.0 in labels with no predicted samples. Use `zero_division` parameter to control this behavior.\n",
            "  _warn_prf(average, modifier, f\"{metric.capitalize()} is\", len(result))\n",
            "/usr/local/lib/python3.11/dist-packages/sklearn/metrics/_classification.py:1565: UndefinedMetricWarning: Precision is ill-defined and being set to 0.0 in labels with no predicted samples. Use `zero_division` parameter to control this behavior.\n",
            "  _warn_prf(average, modifier, f\"{metric.capitalize()} is\", len(result))\n",
            "/usr/local/lib/python3.11/dist-packages/sklearn/metrics/_classification.py:1565: UndefinedMetricWarning: Precision is ill-defined and being set to 0.0 in labels with no predicted samples. Use `zero_division` parameter to control this behavior.\n",
            "  _warn_prf(average, modifier, f\"{metric.capitalize()} is\", len(result))\n",
            "/usr/local/lib/python3.11/dist-packages/sklearn/metrics/_classification.py:1565: UndefinedMetricWarning: Precision is ill-defined and being set to 0.0 in labels with no predicted samples. Use `zero_division` parameter to control this behavior.\n",
            "  _warn_prf(average, modifier, f\"{metric.capitalize()} is\", len(result))\n",
            "/usr/local/lib/python3.11/dist-packages/sklearn/metrics/_classification.py:1565: UndefinedMetricWarning: Precision is ill-defined and being set to 0.0 in labels with no predicted samples. Use `zero_division` parameter to control this behavior.\n",
            "  _warn_prf(average, modifier, f\"{metric.capitalize()} is\", len(result))\n",
            "/usr/local/lib/python3.11/dist-packages/sklearn/metrics/_classification.py:1565: UndefinedMetricWarning: Precision is ill-defined and being set to 0.0 in labels with no predicted samples. Use `zero_division` parameter to control this behavior.\n",
            "  _warn_prf(average, modifier, f\"{metric.capitalize()} is\", len(result))\n"
          ]
        }
      ]
    },
    {
      "cell_type": "code",
      "source": [
        "import pandas as pd\n",
        "\n",
        "# Convert results to DataFrame\n",
        "df_results = pd.DataFrame(results)\n",
        "print(\"Model Comparison:\")\n",
        "print(df_results)"
      ],
      "metadata": {
        "colab": {
          "base_uri": "https://localhost:8080/"
        },
        "id": "jP-GJbrEt3Sy",
        "outputId": "b2d85f81-546f-4f29-cde4-f8a2b1e0e636"
      },
      "execution_count": null,
      "outputs": [
        {
          "output_type": "stream",
          "name": "stdout",
          "text": [
            "Model Comparison:\n",
            "                 Model  Accuracy  Precision  Recall  F1-Score\n",
            "0                  SVM      0.42       0.44    0.42      0.42\n",
            "1             SVM-poly      0.29       0.20    0.29      0.21\n",
            "2           SVM-linear      0.35       0.41    0.35      0.35\n",
            "3  Logistic Regression      0.29       0.33    0.29      0.30\n",
            "4  K-Nearest Neighbors      0.35       0.38    0.35      0.35\n",
            "5        Random Forest      0.39       0.29    0.39      0.31\n",
            "6              XGBoost      0.39       0.38    0.39      0.37\n",
            "7    Voting Classifier      0.52       0.45    0.52      0.46\n"
          ]
        }
      ]
    },
    {
      "cell_type": "code",
      "source": [
        "import matplotlib.pyplot as plt\n",
        "\n",
        "def visualize_orb(image_path):\n",
        "    # Load image\n",
        "    img = cv2.imread(image_path, cv2.IMREAD_GRAYSCALE)\n",
        "    img = cv2.resize(img, (128, 128))\n",
        "\n",
        "    # Initialize ORB\n",
        "    orb = cv2.ORB_create(nfeatures=100)\n",
        "    keypoints, des = orb.detectAndCompute(img, None)\n",
        "\n",
        "    # Draw keypoints\n",
        "    img_with_keypoints = cv2.drawKeypoints(\n",
        "        img,\n",
        "        keypoints,\n",
        "        None,\n",
        "        flags=cv2.DRAW_MATCHES_FLAGS_DRAW_RICH_KEYPOINTS\n",
        "    )\n",
        "\n",
        "    plt.figure(figsize=(8, 6))\n",
        "    plt.imshow(img_with_keypoints, cmap='gray')\n",
        "    plt.title(\"ORB Keypoints\")\n",
        "    plt.axis('off')\n",
        "    plt.show()\n",
        "\n",
        "# Example usage\n",
        "visualize_orb(train_image_paths[0])  # Replace with a valid image path"
      ],
      "metadata": {
        "colab": {
          "base_uri": "https://localhost:8080/",
          "height": 521
        },
        "id": "b1DNec4TuA18",
        "outputId": "e2fd6451-f123-4cbb-be40-ec6e26855a86"
      },
      "execution_count": null,
      "outputs": [
        {
          "output_type": "display_data",
          "data": {
            "text/plain": [
              "<Figure size 800x600 with 1 Axes>"
            ],
            "image/png": "[encoded data removed]"
          },
          "metadata": {}
        }
      ]
    },
    {
      "cell_type": "markdown",
      "source": [
        "## Gabor filter"
      ],
      "metadata": {
        "id": "w3sTyx0GxDv1"
      }
    },
    {
      "cell_type": "code",
      "source": [
        "import cv2\n",
        "import numpy as np\n",
        "from skimage.filters import gabor\n",
        "from tqdm import tqdm\n",
        "\n",
        "def extract_gabor_features(\n",
        "    image_paths,\n",
        "    target_size=(64, 64),  # Smaller size for speed\n",
        "    orientations=[0, 45, 90, 135],  # Filter orientations in degrees\n",
        "    frequencies=[0.1, 0.2, 0.3]  # Spatial frequencies\n",
        "):\n",
        "    features = []\n",
        "    failed_images = []\n",
        "\n",
        "    for img_path in tqdm(image_paths, desc=\"Extracting Gabor features\"):\n",
        "        try:\n",
        "            # Load and preprocess image\n",
        "            img = cv2.imread(img_path, cv2.IMREAD_GRAYSCALE)\n",
        "            if img is None:\n",
        "                failed_images.append(img_path)\n",
        "                continue\n",
        "            img = cv2.resize(img, target_size)\n",
        "\n",
        "            # Compute Gabor features\n",
        "            gabor_responses = []\n",
        "            for theta in np.deg2rad(orientations):\n",
        "                for freq in frequencies:\n",
        "                    # Apply Gabor filter\n",
        "                    real, imag = gabor(img, frequency=freq, theta=theta)\n",
        "                    # Compute statistics (mean + std) for each filter response\n",
        "                    gabor_responses.append(real.mean())\n",
        "                    gabor_responses.append(real.std())\n",
        "\n",
        "            features.append(gabor_responses)\n",
        "        except Exception as e:\n",
        "            print(f\"Error processing {img_path}: {str(e)}\")\n",
        "            failed_images.append(img_path)\n",
        "\n",
        "    print(f\"Successfully processed {len(features)} images\")\n",
        "    if failed_images:\n",
        "        print(f\"Failed to process {len(failed_images)} images\")\n",
        "\n",
        "    return np.array(features)"
      ],
      "metadata": {
        "id": "FFtHqBrjw85x"
      },
      "execution_count": null,
      "outputs": []
    },
    {
      "cell_type": "code",
      "source": [
        "# Load image paths and labels\n",
        "train_image_paths, train_labels = load_data_from_directories(train_dir='train')\n",
        "test_image_paths, test_labels = load_test_data_with_subdirs(test_dir='test')\n",
        "\n",
        "# Extract Gabor features\n",
        "train_gabor = extract_gabor_features(train_image_paths)\n",
        "test_gabor = extract_gabor_features(test_image_paths)\n",
        "\n",
        "print(f\"Train Gabor features shape: {train_gabor.shape}\")\n",
        "print(f\"Test Gabor features shape: {test_gabor.shape}\")"
      ],
      "metadata": {
        "colab": {
          "base_uri": "https://localhost:8080/"
        },
        "id": "-Cby_jw1xBEO",
        "outputId": "5e85aef6-e22b-4e22-c498-6f6842d215ac"
      },
      "execution_count": null,
      "outputs": [
        {
          "output_type": "stream",
          "name": "stdout",
          "text": [
            "Found 242 training images\n",
            "Class distribution: Counter({5: 57, 4: 51, 2: 43, 1: 36, 0: 32, 3: 23})\n",
            "Found 31 test images\n",
            "Class distribution: Counter({5: 8, 0: 5, 2: 5, 4: 5, 1: 4, 3: 4})\n"
          ]
        },
        {
          "output_type": "stream",
          "name": "stderr",
          "text": [
            "Extracting Gabor features: 100%|██████████| 242/242 [01:54<00:00,  2.12it/s]\n"
          ]
        },
        {
          "output_type": "stream",
          "name": "stdout",
          "text": [
            "Successfully processed 242 images\n"
          ]
        },
        {
          "output_type": "stream",
          "name": "stderr",
          "text": [
            "Extracting Gabor features: 100%|██████████| 31/31 [00:11<00:00,  2.67it/s]"
          ]
        },
        {
          "output_type": "stream",
          "name": "stdout",
          "text": [
            "Successfully processed 31 images\n",
            "Train Gabor features shape: (242, 24)\n",
            "Test Gabor features shape: (31, 24)\n"
          ]
        },
        {
          "output_type": "stream",
          "name": "stderr",
          "text": [
            "\n"
          ]
        }
      ]
    },
    {
      "cell_type": "code",
      "source": [
        "from sklearn.ensemble import RandomForestClassifier\n",
        "from sklearn.preprocessing import StandardScaler\n",
        "from sklearn.metrics import accuracy_score, classification_report\n",
        "\n",
        "# Scale features\n",
        "scaler = StandardScaler()\n",
        "X_train_scaled = scaler.fit_transform(train_gabor)\n",
        "X_test_scaled = scaler.transform(test_gabor)\n",
        "\n",
        "# Train Random Forest\n",
        "rf = RandomForestClassifier(\n",
        "    n_estimators=100,\n",
        "    class_weight='balanced',\n",
        "    random_state=42\n",
        ")\n",
        "rf.fit(X_train_scaled, train_labels)\n",
        "\n",
        "# Evaluate\n",
        "preds = rf.predict(X_test_scaled)\n",
        "print(f\"Accuracy: {accuracy_score(test_labels, preds):.2f}\")\n",
        "print(classification_report(test_labels, preds))"
      ],
      "metadata": {
        "colab": {
          "base_uri": "https://localhost:8080/"
        },
        "id": "SnKTQp7bxLvL",
        "outputId": "26edb9f9-9e13-4d43-d5ef-b6884295d32f"
      },
      "execution_count": null,
      "outputs": [
        {
          "output_type": "stream",
          "name": "stdout",
          "text": [
            "Accuracy: 0.48\n",
            "              precision    recall  f1-score   support\n",
            "\n",
            "           0       0.50      0.20      0.29         5\n",
            "           1       0.40      0.50      0.44         4\n",
            "           2       0.38      0.60      0.46         5\n",
            "           3       0.67      0.50      0.57         4\n",
            "           4       0.40      0.40      0.40         5\n",
            "           5       0.62      0.62      0.62         8\n",
            "\n",
            "    accuracy                           0.48        31\n",
            "   macro avg       0.49      0.47      0.46        31\n",
            "weighted avg       0.50      0.48      0.48        31\n",
            "\n"
          ]
        }
      ]
    },
    {
      "cell_type": "code",
      "source": [],
      "metadata": {
        "id": "tPft2gB_xxG0"
      },
      "execution_count": null,
      "outputs": []
    },
    {
      "cell_type": "code",
      "source": [
        "import matplotlib.pyplot as plt\n",
        "\n",
        "def visualize_gabor(image_path):\n",
        "    # Load and preprocess image\n",
        "    img = cv2.imread(image_path, cv2.IMREAD_GRAYSCALE)\n",
        "    img = cv2.resize(img, (64, 64))\n",
        "\n",
        "    # Apply Gabor filters\n",
        "    fig, axes = plt.subplots(2, 2, figsize=(12, 8))\n",
        "    orientations = [0, 45, 90, 135]\n",
        "\n",
        "    for i, theta in enumerate(np.deg2rad(orientations)):\n",
        "        real, _ = gabor(img, frequency=0.2, theta=theta)\n",
        "        ax = axes[i//2, i%2]\n",
        "        ax.imshow(real, cmap='gray')\n",
        "        ax.set_title(f\"Orientation: {orientations[i]}°\")\n",
        "        ax.axis('off')\n",
        "\n",
        "    plt.tight_layout()\n",
        "    plt.show()\n",
        "\n",
        "# Example usage\n",
        "visualize_gabor(train_image_paths[0])"
      ],
      "metadata": {
        "colab": {
          "base_uri": "https://localhost:8080/",
          "height": 807
        },
        "id": "0WY4mH6hxUI4",
        "outputId": "0b35cd37-add6-433a-d0b7-df0f829a0d3e"
      },
      "execution_count": null,
      "outputs": [
        {
          "output_type": "display_data",
          "data": {
            "text/plain": [
              "<Figure size 1200x800 with 4 Axes>"
            ],
            "image/png": "[encoded data removed]"
          },
          "metadata": {}
        }
      ]
    },
    {
      "cell_type": "code",
      "source": [
        "results = []\n",
        "\n",
        "for name, model in models.items():\n",
        "    print(f\"Training {name}...\")\n",
        "    model.fit(X_train_scaled, train_labels)\n",
        "    preds = model.predict(X_test_scaled)\n",
        "\n",
        "    accuracy = accuracy_score(test_labels, preds)\n",
        "    report = classification_report(test_labels, preds, output_dict=True)\n",
        "\n",
        "    results.append({\n",
        "        \"Model\": name,\n",
        "        \"Accuracy\": round(accuracy, 2),\n",
        "        \"Precision\": round(report['weighted avg']['precision'], 2),\n",
        "        \"Recall\": round(report['weighted avg']['recall'], 2),\n",
        "        \"F1-Score\": round(report['weighted avg']['f1-score'], 2)\n",
        "    })\n",
        "\n",
        "    print(f\"\\n{name} Results:\")\n",
        "    print(f\"Accuracy: {accuracy:.2f}\")\n",
        "    print(classification_report(test_labels, preds))\n",
        "    print(\"-\" * 60)"
      ],
      "metadata": {
        "colab": {
          "base_uri": "https://localhost:8080/"
        },
        "id": "Cb7ihyrkx5dd",
        "outputId": "56f2963a-4966-4f0b-9f50-73ea01c8afaa"
      },
      "execution_count": null,
      "outputs": [
        {
          "output_type": "stream",
          "name": "stdout",
          "text": [
            "Training SVM...\n",
            "\n",
            "SVM Results:\n",
            "Accuracy: 0.35\n",
            "              precision    recall  f1-score   support\n",
            "\n",
            "           0       0.33      0.40      0.36         5\n",
            "           1       0.25      0.50      0.33         4\n",
            "           2       0.33      0.20      0.25         5\n",
            "           3       0.00      0.00      0.00         4\n",
            "           4       1.00      0.20      0.33         5\n",
            "           5       0.56      0.62      0.59         8\n",
            "\n",
            "    accuracy                           0.35        31\n",
            "   macro avg       0.41      0.32      0.31        31\n",
            "weighted avg       0.44      0.35      0.35        31\n",
            "\n",
            "------------------------------------------------------------\n",
            "Training SVM-poly...\n"
          ]
        },
        {
          "output_type": "stream",
          "name": "stderr",
          "text": [
            "/usr/local/lib/python3.11/dist-packages/sklearn/metrics/_classification.py:1565: UndefinedMetricWarning: Precision is ill-defined and being set to 0.0 in labels with no predicted samples. Use `zero_division` parameter to control this behavior.\n",
            "  _warn_prf(average, modifier, f\"{metric.capitalize()} is\", len(result))\n",
            "/usr/local/lib/python3.11/dist-packages/sklearn/metrics/_classification.py:1565: UndefinedMetricWarning: Precision is ill-defined and being set to 0.0 in labels with no predicted samples. Use `zero_division` parameter to control this behavior.\n",
            "  _warn_prf(average, modifier, f\"{metric.capitalize()} is\", len(result))\n",
            "/usr/local/lib/python3.11/dist-packages/sklearn/metrics/_classification.py:1565: UndefinedMetricWarning: Precision is ill-defined and being set to 0.0 in labels with no predicted samples. Use `zero_division` parameter to control this behavior.\n",
            "  _warn_prf(average, modifier, f\"{metric.capitalize()} is\", len(result))\n",
            "/usr/local/lib/python3.11/dist-packages/sklearn/metrics/_classification.py:1565: UndefinedMetricWarning: Precision is ill-defined and being set to 0.0 in labels with no predicted samples. Use `zero_division` parameter to control this behavior.\n",
            "  _warn_prf(average, modifier, f\"{metric.capitalize()} is\", len(result))\n",
            "/usr/local/lib/python3.11/dist-packages/sklearn/metrics/_classification.py:1565: UndefinedMetricWarning: Precision is ill-defined and being set to 0.0 in labels with no predicted samples. Use `zero_division` parameter to control this behavior.\n",
            "  _warn_prf(average, modifier, f\"{metric.capitalize()} is\", len(result))\n",
            "/usr/local/lib/python3.11/dist-packages/sklearn/metrics/_classification.py:1565: UndefinedMetricWarning: Precision is ill-defined and being set to 0.0 in labels with no predicted samples. Use `zero_division` parameter to control this behavior.\n",
            "  _warn_prf(average, modifier, f\"{metric.capitalize()} is\", len(result))\n"
          ]
        },
        {
          "output_type": "stream",
          "name": "stdout",
          "text": [
            "\n",
            "SVM-poly Results:\n",
            "Accuracy: 0.16\n",
            "              precision    recall  f1-score   support\n",
            "\n",
            "           0       0.00      0.00      0.00         5\n",
            "           1       0.00      0.00      0.00         4\n",
            "           2       0.16      0.60      0.25         5\n",
            "           3       0.10      0.25      0.14         4\n",
            "           4       1.00      0.20      0.33         5\n",
            "           5       0.00      0.00      0.00         8\n",
            "\n",
            "    accuracy                           0.16        31\n",
            "   macro avg       0.21      0.18      0.12        31\n",
            "weighted avg       0.20      0.16      0.11        31\n",
            "\n",
            "------------------------------------------------------------\n",
            "Training SVM-linear...\n",
            "\n",
            "SVM-linear Results:\n",
            "Accuracy: 0.39\n",
            "              precision    recall  f1-score   support\n",
            "\n",
            "           0       0.50      0.20      0.29         5\n",
            "           1       0.29      0.50      0.36         4\n",
            "           2       0.25      0.20      0.22         5\n",
            "           3       0.14      0.25      0.18         4\n",
            "           4       1.00      0.20      0.33         5\n",
            "           5       0.60      0.75      0.67         8\n",
            "\n",
            "    accuracy                           0.39        31\n",
            "   macro avg       0.46      0.35      0.34        31\n",
            "weighted avg       0.49      0.39      0.38        31\n",
            "\n",
            "------------------------------------------------------------\n",
            "Training Logistic Regression...\n",
            "\n",
            "Logistic Regression Results:\n",
            "Accuracy: 0.35\n",
            "              precision    recall  f1-score   support\n",
            "\n",
            "           0       0.50      0.20      0.29         5\n",
            "           1       0.22      0.50      0.31         4\n",
            "           2       0.25      0.20      0.22         5\n",
            "           3       0.00      0.00      0.00         4\n",
            "           4       1.00      0.20      0.33         5\n",
            "           5       0.60      0.75      0.67         8\n",
            "\n",
            "    accuracy                           0.35        31\n",
            "   macro avg       0.43      0.31      0.30        31\n",
            "weighted avg       0.47      0.35      0.35        31\n",
            "\n",
            "------------------------------------------------------------\n",
            "Training K-Nearest Neighbors...\n",
            "\n",
            "K-Nearest Neighbors Results:\n",
            "Accuracy: 0.42\n",
            "              precision    recall  f1-score   support\n",
            "\n",
            "           0       0.20      0.20      0.20         5\n",
            "           1       0.50      0.50      0.50         4\n",
            "           2       0.22      0.40      0.29         5\n",
            "           3       0.50      0.25      0.33         4\n",
            "           4       0.50      0.40      0.44         5\n",
            "           5       0.71      0.62      0.67         8\n",
            "\n",
            "    accuracy                           0.42        31\n",
            "   macro avg       0.44      0.40      0.41        31\n",
            "weighted avg       0.46      0.42      0.43        31\n",
            "\n",
            "------------------------------------------------------------\n",
            "Training Random Forest...\n",
            "\n",
            "Random Forest Results:\n",
            "Accuracy: 0.48\n",
            "              precision    recall  f1-score   support\n",
            "\n",
            "           0       0.50      0.20      0.29         5\n",
            "           1       0.40      0.50      0.44         4\n",
            "           2       0.38      0.60      0.46         5\n",
            "           3       0.67      0.50      0.57         4\n",
            "           4       0.40      0.40      0.40         5\n",
            "           5       0.62      0.62      0.62         8\n",
            "\n",
            "    accuracy                           0.48        31\n",
            "   macro avg       0.49      0.47      0.46        31\n",
            "weighted avg       0.50      0.48      0.48        31\n",
            "\n",
            "------------------------------------------------------------\n",
            "Training XGBoost...\n"
          ]
        },
        {
          "output_type": "stream",
          "name": "stderr",
          "text": [
            "/usr/local/lib/python3.11/dist-packages/xgboost/core.py:158: UserWarning: [19:42:54] WARNING: /workspace/src/learner.cc:740: \n",
            "Parameters: { \"scale_pos_weight\", \"use_label_encoder\" } are not used.\n",
            "\n",
            "  warnings.warn(smsg, UserWarning)\n"
          ]
        },
        {
          "output_type": "stream",
          "name": "stdout",
          "text": [
            "\n",
            "XGBoost Results:\n",
            "Accuracy: 0.48\n",
            "              precision    recall  f1-score   support\n",
            "\n",
            "           0       0.75      0.60      0.67         5\n",
            "           1       0.17      0.25      0.20         4\n",
            "           2       0.43      0.60      0.50         5\n",
            "           3       0.50      0.25      0.33         4\n",
            "           4       0.40      0.40      0.40         5\n",
            "           5       0.71      0.62      0.67         8\n",
            "\n",
            "    accuracy                           0.48        31\n",
            "   macro avg       0.49      0.45      0.46        31\n",
            "weighted avg       0.52      0.48      0.49        31\n",
            "\n",
            "------------------------------------------------------------\n",
            "Training Voting Classifier...\n"
          ]
        },
        {
          "output_type": "stream",
          "name": "stderr",
          "text": [
            "/usr/local/lib/python3.11/dist-packages/xgboost/core.py:158: UserWarning: [19:42:57] WARNING: /workspace/src/learner.cc:740: \n",
            "Parameters: { \"use_label_encoder\" } are not used.\n",
            "\n",
            "  warnings.warn(smsg, UserWarning)\n"
          ]
        },
        {
          "output_type": "stream",
          "name": "stdout",
          "text": [
            "\n",
            "Voting Classifier Results:\n",
            "Accuracy: 0.52\n",
            "              precision    recall  f1-score   support\n",
            "\n",
            "           0       1.00      0.60      0.75         5\n",
            "           1       0.14      0.25      0.18         4\n",
            "           2       0.43      0.60      0.50         5\n",
            "           3       0.50      0.25      0.33         4\n",
            "           4       0.50      0.40      0.44         5\n",
            "           5       0.75      0.75      0.75         8\n",
            "\n",
            "    accuracy                           0.52        31\n",
            "   macro avg       0.55      0.48      0.49        31\n",
            "weighted avg       0.59      0.52      0.53        31\n",
            "\n",
            "------------------------------------------------------------\n"
          ]
        }
      ]
    },
    {
      "cell_type": "code",
      "source": [
        "import pandas as pd\n",
        "\n",
        "# Convert results to DataFrame\n",
        "df_results = pd.DataFrame(results)\n",
        "print(\"Model Comparison:\")\n",
        "print(df_results)"
      ],
      "metadata": {
        "colab": {
          "base_uri": "https://localhost:8080/"
        },
        "id": "-pd9NvG5x4M9",
        "outputId": "122e6e1d-5ca6-4153-9cbb-4f772ce9be3d"
      },
      "execution_count": null,
      "outputs": [
        {
          "output_type": "stream",
          "name": "stdout",
          "text": [
            "Model Comparison:\n",
            "                 Model  Accuracy  Precision  Recall  F1-Score\n",
            "0                  SVM      0.35       0.44    0.35      0.35\n",
            "1             SVM-poly      0.16       0.20    0.16      0.11\n",
            "2           SVM-linear      0.39       0.49    0.39      0.38\n",
            "3  Logistic Regression      0.35       0.47    0.35      0.35\n",
            "4  K-Nearest Neighbors      0.42       0.46    0.42      0.43\n",
            "5        Random Forest      0.48       0.50    0.48      0.48\n",
            "6              XGBoost      0.48       0.52    0.48      0.49\n",
            "7    Voting Classifier      0.52       0.59    0.52      0.53\n"
          ]
        }
      ]
    }
  ]
}