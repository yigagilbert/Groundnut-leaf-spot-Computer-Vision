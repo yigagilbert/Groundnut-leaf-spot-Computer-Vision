{
  "nbformat": 4,
  "nbformat_minor": 0,
  "metadata": {
    "colab": {
      "provenance": []
    },
    "kernelspec": {
      "name": "python3",
      "display_name": "Python 3"
    },
    "language_info": {
      "name": "python"
    }
  },
  "cells": [
    {
      "cell_type": "code",
      "execution_count": null,
      "metadata": {
        "colab": {
          "base_uri": "https://localhost:8080/"
        },
        "id": "CjP9X7xFbrSF",
        "outputId": "51192ba3-9714-44ad-a218-a8f2e728ac68"
      },
      "outputs": [
        {
          "output_type": "stream",
          "name": "stdout",
          "text": [
            "Mounted at /content/drive\n"
          ]
        }
      ],
      "source": [
        "from google.colab import drive\n",
        "drive.mount('/content/drive')"
      ]
    },
    {
      "cell_type": "code",
      "source": [
        "import os\n",
        "dataset_path = '/content/drive/MyDrive/Leaf_Spot/Leaf Spot'\n",
        "os.chdir(dataset_path)"
      ],
      "metadata": {
        "id": "FrI1wPehb4sj"
      },
      "execution_count": null,
      "outputs": []
    },
    {
      "cell_type": "code",
      "source": [
        "import os\n",
        "from collections import Counter\n",
        "import torch\n",
        "import torch.nn as nn\n",
        "import torch.optim as optim\n",
        "from torch.utils.data import Dataset, DataLoader\n",
        "from torchvision import transforms\n",
        "from PIL import Image\n",
        "from sklearn.metrics import confusion_matrix, classification_report, precision_score, recall_score, f1_score\n",
        "from sklearn.utils.class_weight import compute_class_weight\n",
        "import matplotlib.pyplot as plt\n",
        "import seaborn as sns\n",
        "import numpy as np\n",
        "\n",
        "# Load data\n",
        "def load_data_from_directories(train_dir='train', test_dir='test'):\n",
        "    train_image_paths = []\n",
        "    train_labels = []\n",
        "\n",
        "    # Process training data\n",
        "    for cls in os.listdir(train_dir):\n",
        "        cls_path = os.path.join(train_dir, cls)\n",
        "        if os.path.isdir(cls_path):\n",
        "            for img_name in os.listdir(cls_path):\n",
        "                img_path = os.path.join(cls_path, img_name)\n",
        "                if img_path.lower().endswith(('.png', '.jpg', '.jpeg')):\n",
        "                    train_image_paths.append(img_path)\n",
        "                    class_number = int(cls.split()[-1]) - 1  # Convert to 0-indexed\n",
        "                    train_labels.append(class_number)\n",
        "\n",
        "    print(f\"Found {len(train_image_paths)} training images\")\n",
        "    print(f\"Class distribution: {Counter(train_labels)}\")\n",
        "\n",
        "    return train_image_paths, train_labels\n",
        "\n",
        "\n",
        "def load_test_data_with_subdirs(test_dir='test'):\n",
        "    test_image_paths = []\n",
        "    test_labels = []\n",
        "    label_mapping = {}\n",
        "    current_label = 0\n",
        "\n",
        "    # Process test data\n",
        "    for cls in os.listdir(test_dir):\n",
        "        cls_path = os.path.join(test_dir, cls)\n",
        "        if os.path.isdir(cls_path):\n",
        "            if cls not in label_mapping:\n",
        "                label_mapping[cls] = current_label\n",
        "                current_label += 1\n",
        "            class_number = label_mapping[cls]\n",
        "\n",
        "            for img_name in os.listdir(cls_path):\n",
        "                img_path = os.path.join(cls_path, img_name)\n",
        "                if img_path.lower().endswith(('.png', '.jpg', '.jpeg')):\n",
        "                    test_image_paths.append(img_path)\n",
        "                    test_labels.append(class_number)\n",
        "\n",
        "    print(f\"Found {len(test_image_paths)} test images\")\n",
        "    print(f\"Class distribution: {Counter(test_labels)}\")\n",
        "\n",
        "    return test_image_paths, test_labels"
      ],
      "metadata": {
        "id": "HH3krmZMdMlg"
      },
      "execution_count": null,
      "outputs": []
    },
    {
      "cell_type": "code",
      "source": [
        "import torch\n",
        "import torch.nn as nn\n",
        "import torchvision.transforms as transforms\n",
        "from torch.utils.data import DataLoader, Dataset\n",
        "from PIL import Image\n",
        "from tqdm import tqdm\n",
        "\n",
        "# Define a simple CNN\n",
        "class SimpleCNN(nn.Module):\n",
        "    def __init__(self):\n",
        "        super(SimpleCNN, self).__init__()\n",
        "        self.features = nn.Sequential(\n",
        "            nn.Conv2d(3, 16, kernel_size=3, padding=1),\n",
        "            nn.ReLU(),\n",
        "            nn.MaxPool2d(kernel_size=2, stride=2),\n",
        "            nn.Conv2d(16, 32, kernel_size=3, padding=1),\n",
        "            nn.ReLU(),\n",
        "            nn.MaxPool2d(kernel_size=2, stride=2),\n",
        "        )\n",
        "        self.avgpool = nn.AdaptiveAvgPool2d((1, 1))  # Global average pooling\n",
        "\n",
        "    def forward(self, x):\n",
        "        x = self.features(x)\n",
        "        x = self.avgpool(x)\n",
        "        return x.view(x.size(0), -1)\n",
        "\n",
        "# Load model\n",
        "device = torch.device(\"cuda\" if torch.cuda.is_available() else \"cpu\")\n",
        "simple_cnn = SimpleCNN().to(device)\n",
        "simple_cnn.eval()\n",
        "\n",
        "# Define transforms\n",
        "transform = transforms.Compose([\n",
        "    transforms.Resize((128, 128)),\n",
        "    transforms.ToTensor(),\n",
        "])\n",
        "\n",
        "# Custom Dataset for feature extraction\n",
        "class FeatureDataset(Dataset):\n",
        "    def __init__(self, image_paths, transform=None):\n",
        "        self.image_paths = image_paths\n",
        "        self.transform = transform\n",
        "\n",
        "    def __len__(self):\n",
        "        return len(self.image_paths)\n",
        "\n",
        "    def __getitem__(self, idx):\n",
        "        img_path = self.image_paths[idx]\n",
        "        image = Image.open(img_path).convert('RGB')\n",
        "        if self.transform:\n",
        "            image = self.transform(image)\n",
        "        return image\n",
        "\n",
        "# Extract features\n",
        "def extract_features(model, image_paths, batch_size=32):\n",
        "    dataset = FeatureDataset(image_paths, transform=transform)\n",
        "    dataloader = DataLoader(dataset, batch_size=batch_size, shuffle=False, num_workers=2)\n",
        "\n",
        "    features = []\n",
        "    with torch.no_grad():\n",
        "        for batch in tqdm(dataloader, desc=\"Extracting features\"):\n",
        "            batch = batch.to(device)\n",
        "            batch_features = model(batch)\n",
        "            features.append(batch_features.cpu().numpy())\n",
        "\n",
        "    return np.vstack(features)\n",
        "\n",
        "\n",
        "# Load image paths\n",
        "train_image_paths, train_labels = load_data_from_directories(train_dir='train')\n",
        "test_image_paths, test_labels = load_test_data_with_subdirs(test_dir='test')"
      ],
      "metadata": {
        "colab": {
          "base_uri": "https://localhost:8080/"
        },
        "id": "kQweRKbgdpik",
        "outputId": "32f81045-1fac-49b5-c2fe-9692d4c32585"
      },
      "execution_count": null,
      "outputs": [
        {
          "output_type": "stream",
          "name": "stdout",
          "text": [
            "Found 242 training images\n",
            "Class distribution: Counter({5: 57, 4: 51, 2: 43, 1: 36, 0: 32, 3: 23})\n",
            "Found 31 test images\n",
            "Class distribution: Counter({5: 8, 0: 5, 2: 5, 4: 5, 1: 4, 3: 4})\n"
          ]
        }
      ]
    },
    {
      "cell_type": "code",
      "source": [
        "# Extract Simple CNN features\n",
        "train_simple_cnn = extract_features(simple_cnn, train_image_paths)\n",
        "test_simple_cnn = extract_features(simple_cnn, test_image_paths)"
      ],
      "metadata": {
        "colab": {
          "base_uri": "https://localhost:8080/"
        },
        "id": "RfGOnMthdqyO",
        "outputId": "5090345d-d2ed-4224-ff79-efa136a24699"
      },
      "execution_count": null,
      "outputs": [
        {
          "output_type": "stream",
          "name": "stderr",
          "text": [
            "Extracting features: 100%|██████████| 8/8 [02:06<00:00, 15.84s/it]\n",
            "Extracting features: 100%|██████████| 1/1 [00:27<00:00, 27.19s/it]\n"
          ]
        }
      ]
    },
    {
      "cell_type": "code",
      "source": [
        "import torchvision.models as models\n",
        "\n",
        "# Load pre-trained models\n",
        "def get_pretrained_model(name):\n",
        "    if name == \"densenet\":\n",
        "        model = models.densenet121(pretrained=True)\n",
        "        model.classifier = nn.Identity()  # Remove classification head\n",
        "    elif name == \"mobilenet\":\n",
        "        model = models.mobilenet_v2(pretrained=True)\n",
        "        model.classifier = nn.Identity()\n",
        "    elif name == \"resnet\":\n",
        "        model = models.resnet18(pretrained=True)\n",
        "        model.fc = nn.Identity()\n",
        "    model.eval()\n",
        "    return model.to(device)\n",
        "\n",
        "# Extract DenseNet features\n",
        "densenet = get_pretrained_model(\"densenet\")\n",
        "train_densenet = extract_features(densenet, train_image_paths)\n",
        "test_densenet = extract_features(densenet, test_image_paths)\n",
        "\n",
        "# Extract MobileNet features\n",
        "mobilenet = get_pretrained_model(\"mobilenet\")\n",
        "train_mobilenet = extract_features(mobilenet, train_image_paths)\n",
        "test_mobilenet = extract_features(mobilenet, test_image_paths)\n",
        "\n",
        "# Extract ResNet features\n",
        "resnet = get_pretrained_model(\"resnet\")\n",
        "train_resnet = extract_features(resnet, train_image_paths)\n",
        "test_resnet = extract_features(resnet, test_image_paths)"
      ],
      "metadata": {
        "colab": {
          "base_uri": "https://localhost:8080/"
        },
        "id": "UCSRgGYUfWHU",
        "outputId": "1fce13a0-7177-4b76-a65d-e1c1d7a22ae9"
      },
      "execution_count": null,
      "outputs": [
        {
          "output_type": "stream",
          "name": "stderr",
          "text": [
            "/usr/local/lib/python3.11/dist-packages/torchvision/models/_utils.py:208: UserWarning: The parameter 'pretrained' is deprecated since 0.13 and may be removed in the future, please use 'weights' instead.\n",
            "  warnings.warn(\n",
            "/usr/local/lib/python3.11/dist-packages/torchvision/models/_utils.py:223: UserWarning: Arguments other than a weight enum or `None` for 'weights' are deprecated since 0.13 and may be removed in the future. The current behavior is equivalent to passing `weights=DenseNet121_Weights.IMAGENET1K_V1`. You can also use `weights=DenseNet121_Weights.DEFAULT` to get the most up-to-date weights.\n",
            "  warnings.warn(msg)\n",
            "Downloading: \"https://download.pytorch.org/models/densenet121-a639ec97.pth\" to /root/.cache/torch/hub/checkpoints/densenet121-a639ec97.pth\n",
            "100%|██████████| 30.8M/30.8M [00:00<00:00, 103MB/s]\n",
            "Extracting features: 100%|██████████| 8/8 [01:34<00:00, 11.83s/it]\n",
            "Extracting features: 100%|██████████| 1/1 [00:14<00:00, 14.43s/it]\n",
            "/usr/local/lib/python3.11/dist-packages/torchvision/models/_utils.py:223: UserWarning: Arguments other than a weight enum or `None` for 'weights' are deprecated since 0.13 and may be removed in the future. The current behavior is equivalent to passing `weights=MobileNet_V2_Weights.IMAGENET1K_V1`. You can also use `weights=MobileNet_V2_Weights.DEFAULT` to get the most up-to-date weights.\n",
            "  warnings.warn(msg)\n",
            "Downloading: \"https://download.pytorch.org/models/mobilenet_v2-b0353104.pth\" to /root/.cache/torch/hub/checkpoints/mobilenet_v2-b0353104.pth\n",
            "100%|██████████| 13.6M/13.6M [00:00<00:00, 92.8MB/s]\n",
            "Extracting features: 100%|██████████| 8/8 [01:25<00:00, 10.64s/it]\n",
            "Extracting features: 100%|██████████| 1/1 [00:13<00:00, 13.61s/it]\n",
            "/usr/local/lib/python3.11/dist-packages/torchvision/models/_utils.py:223: UserWarning: Arguments other than a weight enum or `None` for 'weights' are deprecated since 0.13 and may be removed in the future. The current behavior is equivalent to passing `weights=ResNet18_Weights.IMAGENET1K_V1`. You can also use `weights=ResNet18_Weights.DEFAULT` to get the most up-to-date weights.\n",
            "  warnings.warn(msg)\n",
            "Downloading: \"https://download.pytorch.org/models/resnet18-f37072fd.pth\" to /root/.cache/torch/hub/checkpoints/resnet18-f37072fd.pth\n",
            "100%|██████████| 44.7M/44.7M [00:00<00:00, 139MB/s]\n",
            "Extracting features: 100%|██████████| 8/8 [01:27<00:00, 10.88s/it]\n",
            "Extracting features: 100%|██████████| 1/1 [00:13<00:00, 13.49s/it]\n"
          ]
        }
      ]
    },
    {
      "cell_type": "code",
      "source": [
        "from sklearn.svm import SVC\n",
        "from sklearn.ensemble import RandomForestClassifier\n",
        "from sklearn.neighbors import KNeighborsClassifier\n",
        "from sklearn.linear_model import LogisticRegression\n",
        "from sklearn.metrics import accuracy_score\n",
        "\n",
        "def train_and_evaluate(model, X_train, y_train, X_test, y_test):\n",
        "    model.fit(X_train, y_train)\n",
        "    preds = model.predict(X_test)\n",
        "    return accuracy_score(y_test, preds)"
      ],
      "metadata": {
        "id": "cQMeC_6Wh0a5"
      },
      "execution_count": null,
      "outputs": []
    },
    {
      "cell_type": "code",
      "source": [
        "# Example: Train SVM on ResNet features\n",
        "svm = SVC(kernel='rbf', class_weight='balanced')\n",
        "accuracy = train_and_evaluate(svm, train_resnet, train_labels, test_resnet, test_labels)\n",
        "print(f\"SVM Accuracy (ResNet): {accuracy:.2f}\")"
      ],
      "metadata": {
        "colab": {
          "base_uri": "https://localhost:8080/"
        },
        "id": "7EoqE5SQhkBz",
        "outputId": "2b0e0f05-67e3-45f4-aba5-69db4a33ddde"
      },
      "execution_count": null,
      "outputs": [
        {
          "output_type": "stream",
          "name": "stdout",
          "text": [
            "SVM Accuracy (ResNet): 0.58\n"
          ]
        }
      ]
    },
    {
      "cell_type": "code",
      "source": [
        "models = {\n",
        "    # Traditional ML\n",
        "    \"SVM\": SVC(kernel='rbf', class_weight='balanced', probability=True, random_state=42),\n",
        "    \"SVM-poly\": SVC(kernel='poly', class_weight='balanced', probability=True, random_state=42),\n",
        "    \"SVM-linear\": SVC(kernel='linear', class_weight='balanced', probability=True, random_state=42),\n",
        "    \"Logistic Regression\": LogisticRegression(class_weight='balanced', max_iter=1000, random_state=42),\n",
        "    \"K-Nearest Neighbors\": KNeighborsClassifier(n_neighbors=5),\n",
        "\n",
        "    # Ensemble Learning\n",
        "    \"Random Forest\": RandomForestClassifier(n_estimators=100, class_weight='balanced', random_state=42),\n",
        "    # \"AdaBoost\": AdaBoostClassifier(\n",
        "    #     base_estimator=DecisionTreeClassifier(max_depth=1, class_weight='balanced'),\n",
        "    #     n_estimators=50,\n",
        "    #     random_state=42\n",
        "    # ),\n",
        "    # \"XGBoost\": XGBClassifier(\n",
        "    #     use_label_encoder=False,\n",
        "    #     eval_metric='mlogloss',\n",
        "    #     scale_pos_weight=1,  # Adjust if binary classification\n",
        "    #     random_state=42\n",
        "    # ),\n",
        "\n",
        "    # Meta-Ensemble\n",
        "    # \"Voting Classifier\": VotingClassifier(\n",
        "    #     estimators=[\n",
        "    #         ('svm', SVC(kernel='rbf', class_weight='balanced', probability=True)),\n",
        "    #         ('rf', RandomForestClassifier(n_estimators=100, class_weight='balanced')),\n",
        "    #         ('xgb', XGBClassifier(use_label_encoder=False, eval_metric='mlogloss'))\n",
        "    #     ],\n",
        "    #     voting='soft'\n",
        "    # )\n",
        "}"
      ],
      "metadata": {
        "id": "Ex4Va7ACiJwE"
      },
      "execution_count": null,
      "outputs": []
    },
    {
      "cell_type": "markdown",
      "source": [
        "## CNN\n"
      ],
      "metadata": {
        "id": "bcYbmBSCiz1a"
      }
    },
    {
      "cell_type": "code",
      "source": [
        "results = []\n",
        "\n",
        "for name, model in models.items():\n",
        "    print(f\"Training {name}...\")\n",
        "    model.fit(train_simple_cnn, train_labels)\n",
        "    preds = model.predict(test_simple_cnn)\n",
        "\n",
        "    accuracy = accuracy_score(test_labels, preds)\n",
        "    report = classification_report(test_labels, preds, output_dict=True)\n",
        "\n",
        "\n",
        "    results.append({\n",
        "        \"Model\": name,\n",
        "        \"Accuracy\": round(accuracy, 2),\n",
        "        \"Precision\": round(report['weighted avg']['precision'], 2),\n",
        "        \"Recall\": round(report['weighted avg']['recall'], 2),\n",
        "        \"F1-Score\": round(report['weighted avg']['f1-score'], 2)\n",
        "    })\n",
        "\n",
        "    print(f\"\\n{name} Results:\")\n",
        "    print(f\"Accuracy: {accuracy:.2f}\")\n",
        "    print(classification_report(test_labels, preds))\n",
        "    print(\"-\" * 60)"
      ],
      "metadata": {
        "colab": {
          "base_uri": "https://localhost:8080/"
        },
        "id": "iTsAS9bRizMj",
        "outputId": "493909a0-5757-468b-face-f29568438e3d"
      },
      "execution_count": null,
      "outputs": [
        {
          "output_type": "stream",
          "name": "stdout",
          "text": [
            "Training SVM...\n",
            "\n",
            "SVM Results:\n",
            "Accuracy: 0.42\n",
            "              precision    recall  f1-score   support\n",
            "\n",
            "           0       0.67      0.40      0.50         5\n",
            "           1       0.23      0.75      0.35         4\n",
            "           2       0.00      0.00      0.00         5\n",
            "           3       0.00      0.00      0.00         4\n",
            "           4       1.00      0.20      0.33         5\n",
            "           5       0.58      0.88      0.70         8\n",
            "\n",
            "    accuracy                           0.42        31\n",
            "   macro avg       0.41      0.37      0.31        31\n",
            "weighted avg       0.45      0.42      0.36        31\n",
            "\n",
            "------------------------------------------------------------\n",
            "Training SVM-poly...\n"
          ]
        },
        {
          "output_type": "stream",
          "name": "stderr",
          "text": [
            "/usr/local/lib/python3.11/dist-packages/sklearn/metrics/_classification.py:1565: UndefinedMetricWarning: Precision is ill-defined and being set to 0.0 in labels with no predicted samples. Use `zero_division` parameter to control this behavior.\n",
            "  _warn_prf(average, modifier, f\"{metric.capitalize()} is\", len(result))\n",
            "/usr/local/lib/python3.11/dist-packages/sklearn/metrics/_classification.py:1565: UndefinedMetricWarning: Precision is ill-defined and being set to 0.0 in labels with no predicted samples. Use `zero_division` parameter to control this behavior.\n",
            "  _warn_prf(average, modifier, f\"{metric.capitalize()} is\", len(result))\n",
            "/usr/local/lib/python3.11/dist-packages/sklearn/metrics/_classification.py:1565: UndefinedMetricWarning: Precision is ill-defined and being set to 0.0 in labels with no predicted samples. Use `zero_division` parameter to control this behavior.\n",
            "  _warn_prf(average, modifier, f\"{metric.capitalize()} is\", len(result))\n",
            "/usr/local/lib/python3.11/dist-packages/sklearn/metrics/_classification.py:1565: UndefinedMetricWarning: Precision is ill-defined and being set to 0.0 in labels with no predicted samples. Use `zero_division` parameter to control this behavior.\n",
            "  _warn_prf(average, modifier, f\"{metric.capitalize()} is\", len(result))\n",
            "/usr/local/lib/python3.11/dist-packages/sklearn/metrics/_classification.py:1565: UndefinedMetricWarning: Precision is ill-defined and being set to 0.0 in labels with no predicted samples. Use `zero_division` parameter to control this behavior.\n",
            "  _warn_prf(average, modifier, f\"{metric.capitalize()} is\", len(result))\n",
            "/usr/local/lib/python3.11/dist-packages/sklearn/metrics/_classification.py:1565: UndefinedMetricWarning: Precision is ill-defined and being set to 0.0 in labels with no predicted samples. Use `zero_division` parameter to control this behavior.\n",
            "  _warn_prf(average, modifier, f\"{metric.capitalize()} is\", len(result))\n",
            "/usr/local/lib/python3.11/dist-packages/sklearn/metrics/_classification.py:1565: UndefinedMetricWarning: Precision is ill-defined and being set to 0.0 in labels with no predicted samples. Use `zero_division` parameter to control this behavior.\n",
            "  _warn_prf(average, modifier, f\"{metric.capitalize()} is\", len(result))\n",
            "/usr/local/lib/python3.11/dist-packages/sklearn/metrics/_classification.py:1565: UndefinedMetricWarning: Precision is ill-defined and being set to 0.0 in labels with no predicted samples. Use `zero_division` parameter to control this behavior.\n",
            "  _warn_prf(average, modifier, f\"{metric.capitalize()} is\", len(result))\n",
            "/usr/local/lib/python3.11/dist-packages/sklearn/metrics/_classification.py:1565: UndefinedMetricWarning: Precision is ill-defined and being set to 0.0 in labels with no predicted samples. Use `zero_division` parameter to control this behavior.\n",
            "  _warn_prf(average, modifier, f\"{metric.capitalize()} is\", len(result))\n",
            "/usr/local/lib/python3.11/dist-packages/sklearn/metrics/_classification.py:1565: UndefinedMetricWarning: Precision is ill-defined and being set to 0.0 in labels with no predicted samples. Use `zero_division` parameter to control this behavior.\n",
            "  _warn_prf(average, modifier, f\"{metric.capitalize()} is\", len(result))\n",
            "/usr/local/lib/python3.11/dist-packages/sklearn/metrics/_classification.py:1565: UndefinedMetricWarning: Precision is ill-defined and being set to 0.0 in labels with no predicted samples. Use `zero_division` parameter to control this behavior.\n",
            "  _warn_prf(average, modifier, f\"{metric.capitalize()} is\", len(result))\n",
            "/usr/local/lib/python3.11/dist-packages/sklearn/metrics/_classification.py:1565: UndefinedMetricWarning: Precision is ill-defined and being set to 0.0 in labels with no predicted samples. Use `zero_division` parameter to control this behavior.\n",
            "  _warn_prf(average, modifier, f\"{metric.capitalize()} is\", len(result))\n"
          ]
        },
        {
          "output_type": "stream",
          "name": "stdout",
          "text": [
            "\n",
            "SVM-poly Results:\n",
            "Accuracy: 0.42\n",
            "              precision    recall  f1-score   support\n",
            "\n",
            "           0       0.33      0.40      0.36         5\n",
            "           1       0.14      0.25      0.18         4\n",
            "           2       0.29      0.40      0.33         5\n",
            "           3       0.50      0.50      0.50         4\n",
            "           4       1.00      0.20      0.33         5\n",
            "           5       0.83      0.62      0.71         8\n",
            "\n",
            "    accuracy                           0.42        31\n",
            "   macro avg       0.52      0.40      0.40        31\n",
            "weighted avg       0.56      0.42      0.44        31\n",
            "\n",
            "------------------------------------------------------------\n",
            "Training SVM-linear...\n",
            "\n",
            "SVM-linear Results:\n",
            "Accuracy: 0.13\n",
            "              precision    recall  f1-score   support\n",
            "\n",
            "           0       0.00      0.00      0.00         5\n",
            "           1       0.13      1.00      0.23         4\n",
            "           2       0.00      0.00      0.00         5\n",
            "           3       0.00      0.00      0.00         4\n",
            "           4       0.00      0.00      0.00         5\n",
            "           5       0.00      0.00      0.00         8\n",
            "\n",
            "    accuracy                           0.13        31\n",
            "   macro avg       0.02      0.17      0.04        31\n",
            "weighted avg       0.02      0.13      0.03        31\n",
            "\n",
            "------------------------------------------------------------\n",
            "Training Logistic Regression...\n",
            "\n",
            "Logistic Regression Results:\n",
            "Accuracy: 0.29\n",
            "              precision    recall  f1-score   support\n",
            "\n",
            "           0       0.40      0.80      0.53         5\n",
            "           1       0.00      0.00      0.00         4\n",
            "           2       0.25      0.20      0.22         5\n",
            "           3       0.00      0.00      0.00         4\n",
            "           4       0.22      0.40      0.29         5\n",
            "           5       0.40      0.25      0.31         8\n",
            "\n",
            "    accuracy                           0.29        31\n",
            "   macro avg       0.21      0.27      0.22        31\n",
            "weighted avg       0.24      0.29      0.25        31\n",
            "\n",
            "------------------------------------------------------------\n",
            "Training K-Nearest Neighbors...\n"
          ]
        },
        {
          "output_type": "stream",
          "name": "stderr",
          "text": [
            "/usr/local/lib/python3.11/dist-packages/sklearn/metrics/_classification.py:1565: UndefinedMetricWarning: Precision is ill-defined and being set to 0.0 in labels with no predicted samples. Use `zero_division` parameter to control this behavior.\n",
            "  _warn_prf(average, modifier, f\"{metric.capitalize()} is\", len(result))\n",
            "/usr/local/lib/python3.11/dist-packages/sklearn/metrics/_classification.py:1565: UndefinedMetricWarning: Precision is ill-defined and being set to 0.0 in labels with no predicted samples. Use `zero_division` parameter to control this behavior.\n",
            "  _warn_prf(average, modifier, f\"{metric.capitalize()} is\", len(result))\n",
            "/usr/local/lib/python3.11/dist-packages/sklearn/metrics/_classification.py:1565: UndefinedMetricWarning: Precision is ill-defined and being set to 0.0 in labels with no predicted samples. Use `zero_division` parameter to control this behavior.\n",
            "  _warn_prf(average, modifier, f\"{metric.capitalize()} is\", len(result))\n",
            "/usr/local/lib/python3.11/dist-packages/sklearn/metrics/_classification.py:1565: UndefinedMetricWarning: Precision is ill-defined and being set to 0.0 in labels with no predicted samples. Use `zero_division` parameter to control this behavior.\n",
            "  _warn_prf(average, modifier, f\"{metric.capitalize()} is\", len(result))\n",
            "/usr/local/lib/python3.11/dist-packages/sklearn/metrics/_classification.py:1565: UndefinedMetricWarning: Precision is ill-defined and being set to 0.0 in labels with no predicted samples. Use `zero_division` parameter to control this behavior.\n",
            "  _warn_prf(average, modifier, f\"{metric.capitalize()} is\", len(result))\n",
            "/usr/local/lib/python3.11/dist-packages/sklearn/metrics/_classification.py:1565: UndefinedMetricWarning: Precision is ill-defined and being set to 0.0 in labels with no predicted samples. Use `zero_division` parameter to control this behavior.\n",
            "  _warn_prf(average, modifier, f\"{metric.capitalize()} is\", len(result))\n"
          ]
        },
        {
          "output_type": "stream",
          "name": "stdout",
          "text": [
            "\n",
            "K-Nearest Neighbors Results:\n",
            "Accuracy: 0.65\n",
            "              precision    recall  f1-score   support\n",
            "\n",
            "           0       0.50      0.80      0.62         5\n",
            "           1       0.33      0.25      0.29         4\n",
            "           2       0.60      0.60      0.60         5\n",
            "           3       0.80      1.00      0.89         4\n",
            "           4       0.75      0.60      0.67         5\n",
            "           5       0.83      0.62      0.71         8\n",
            "\n",
            "    accuracy                           0.65        31\n",
            "   macro avg       0.64      0.65      0.63        31\n",
            "weighted avg       0.66      0.65      0.64        31\n",
            "\n",
            "------------------------------------------------------------\n",
            "Training Random Forest...\n",
            "\n",
            "Random Forest Results:\n",
            "Accuracy: 0.77\n",
            "              precision    recall  f1-score   support\n",
            "\n",
            "           0       0.83      1.00      0.91         5\n",
            "           1       0.60      0.75      0.67         4\n",
            "           2       1.00      0.60      0.75         5\n",
            "           3       0.60      0.75      0.67         4\n",
            "           4       0.50      0.40      0.44         5\n",
            "           5       1.00      1.00      1.00         8\n",
            "\n",
            "    accuracy                           0.77        31\n",
            "   macro avg       0.76      0.75      0.74        31\n",
            "weighted avg       0.79      0.77      0.77        31\n",
            "\n",
            "------------------------------------------------------------\n"
          ]
        }
      ]
    },
    {
      "cell_type": "code",
      "source": [
        "import pandas as pd\n",
        "\n",
        "# Convert results to DataFrame\n",
        "df_results = pd.DataFrame(results)\n",
        "print(\"Model Comparison:\")\n",
        "print(df_results)"
      ],
      "metadata": {
        "colab": {
          "base_uri": "https://localhost:8080/"
        },
        "id": "7FS5mG61j--t",
        "outputId": "a773a050-be02-4258-b01f-255915767f51"
      },
      "execution_count": null,
      "outputs": [
        {
          "output_type": "stream",
          "name": "stdout",
          "text": [
            "Model Comparison:\n",
            "                 Model  Accuracy  Precision  Recall  F1-Score\n",
            "0                  SVM      0.42       0.45    0.42      0.36\n",
            "1             SVM-poly      0.42       0.56    0.42      0.44\n",
            "2           SVM-linear      0.13       0.02    0.13      0.03\n",
            "3  Logistic Regression      0.29       0.24    0.29      0.25\n",
            "4  K-Nearest Neighbors      0.65       0.66    0.65      0.64\n",
            "5        Random Forest      0.77       0.79    0.77      0.77\n"
          ]
        }
      ]
    },
    {
      "cell_type": "code",
      "source": [],
      "metadata": {
        "id": "zCgf7_UikQPw"
      },
      "execution_count": null,
      "outputs": []
    },
    {
      "cell_type": "markdown",
      "source": [
        "## ResNet"
      ],
      "metadata": {
        "id": "PkMtlBaykQtL"
      }
    },
    {
      "cell_type": "code",
      "source": [
        "results = []\n",
        "\n",
        "for name, model in models.items():\n",
        "    print(f\"Training {name}...\")\n",
        "    model.fit(train_resnet, train_labels)\n",
        "    preds = model.predict(test_resnet)\n",
        "\n",
        "    accuracy = accuracy_score(test_labels, preds)\n",
        "    report = classification_report(test_labels, preds, output_dict=True)\n",
        "\n",
        "\n",
        "    results.append({\n",
        "        \"Model\": name,\n",
        "        \"Accuracy\": round(accuracy, 2),\n",
        "        \"Precision\": round(report['weighted avg']['precision'], 2),\n",
        "        \"Recall\": round(report['weighted avg']['recall'], 2),\n",
        "        \"F1-Score\": round(report['weighted avg']['f1-score'], 2)\n",
        "    })\n",
        "\n",
        "    print(f\"\\n{name} Results:\")\n",
        "    print(f\"Accuracy: {accuracy:.2f}\")\n",
        "    print(classification_report(test_labels, preds))\n",
        "    print(\"-\" * 60)"
      ],
      "metadata": {
        "colab": {
          "base_uri": "https://localhost:8080/"
        },
        "id": "FD_L9KGlkOq8",
        "outputId": "cb574efc-af6b-4d9c-f65c-18dda4194f82"
      },
      "execution_count": null,
      "outputs": [
        {
          "output_type": "stream",
          "name": "stdout",
          "text": [
            "Training SVM...\n",
            "\n",
            "SVM Results:\n",
            "Accuracy: 0.58\n",
            "              precision    recall  f1-score   support\n",
            "\n",
            "           0       0.50      0.40      0.44         5\n",
            "           1       0.43      0.75      0.55         4\n",
            "           2       0.40      0.40      0.40         5\n",
            "           3       0.60      0.75      0.67         4\n",
            "           4       1.00      0.40      0.57         5\n",
            "           5       0.75      0.75      0.75         8\n",
            "\n",
            "    accuracy                           0.58        31\n",
            "   macro avg       0.61      0.57      0.56        31\n",
            "weighted avg       0.63      0.58      0.58        31\n",
            "\n",
            "------------------------------------------------------------\n",
            "Training SVM-poly...\n",
            "\n",
            "SVM-poly Results:\n",
            "Accuracy: 0.61\n",
            "              precision    recall  f1-score   support\n",
            "\n",
            "           0       0.50      0.40      0.44         5\n",
            "           1       0.33      0.50      0.40         4\n",
            "           2       0.67      0.40      0.50         5\n",
            "           3       0.50      0.75      0.60         4\n",
            "           4       1.00      0.60      0.75         5\n",
            "           5       0.78      0.88      0.82         8\n",
            "\n",
            "    accuracy                           0.61        31\n",
            "   macro avg       0.63      0.59      0.59        31\n",
            "weighted avg       0.66      0.61      0.61        31\n",
            "\n",
            "------------------------------------------------------------\n",
            "Training SVM-linear...\n",
            "\n",
            "SVM-linear Results:\n",
            "Accuracy: 0.71\n",
            "              precision    recall  f1-score   support\n",
            "\n",
            "           0       0.60      0.60      0.60         5\n",
            "           1       0.25      0.25      0.25         4\n",
            "           2       0.75      0.60      0.67         5\n",
            "           3       0.67      0.50      0.57         4\n",
            "           4       0.71      1.00      0.83         5\n",
            "           5       1.00      1.00      1.00         8\n",
            "\n",
            "    accuracy                           0.71        31\n",
            "   macro avg       0.66      0.66      0.65        31\n",
            "weighted avg       0.71      0.71      0.70        31\n",
            "\n",
            "------------------------------------------------------------\n",
            "Training Logistic Regression...\n",
            "\n",
            "Logistic Regression Results:\n",
            "Accuracy: 0.68\n",
            "              precision    recall  f1-score   support\n",
            "\n",
            "           0       0.67      0.40      0.50         5\n",
            "           1       0.40      0.50      0.44         4\n",
            "           2       0.75      0.60      0.67         5\n",
            "           3       0.75      0.75      0.75         4\n",
            "           4       0.43      0.60      0.50         5\n",
            "           5       1.00      1.00      1.00         8\n",
            "\n",
            "    accuracy                           0.68        31\n",
            "   macro avg       0.67      0.64      0.64        31\n",
            "weighted avg       0.70      0.68      0.68        31\n",
            "\n",
            "------------------------------------------------------------\n",
            "Training K-Nearest Neighbors...\n",
            "\n",
            "K-Nearest Neighbors Results:\n",
            "Accuracy: 0.48\n",
            "              precision    recall  f1-score   support\n",
            "\n",
            "           0       0.38      0.60      0.46         5\n",
            "           1       0.22      0.50      0.31         4\n",
            "           2       1.00      0.20      0.33         5\n",
            "           3       0.50      0.25      0.33         4\n",
            "           4       0.50      0.20      0.29         5\n",
            "           5       0.78      0.88      0.82         8\n",
            "\n",
            "    accuracy                           0.48        31\n",
            "   macro avg       0.56      0.44      0.42        31\n",
            "weighted avg       0.60      0.48      0.47        31\n",
            "\n",
            "------------------------------------------------------------\n",
            "Training Random Forest...\n",
            "\n",
            "Random Forest Results:\n",
            "Accuracy: 0.55\n",
            "              precision    recall  f1-score   support\n",
            "\n",
            "           0       1.00      0.40      0.57         5\n",
            "           1       0.30      0.75      0.43         4\n",
            "           2       0.50      0.40      0.44         5\n",
            "           3       0.00      0.00      0.00         4\n",
            "           4       0.60      0.60      0.60         5\n",
            "           5       0.78      0.88      0.82         8\n",
            "\n",
            "    accuracy                           0.55        31\n",
            "   macro avg       0.53      0.50      0.48        31\n",
            "weighted avg       0.58      0.55      0.53        31\n",
            "\n",
            "------------------------------------------------------------\n"
          ]
        }
      ]
    },
    {
      "cell_type": "code",
      "source": [
        "import pandas as pd\n",
        "\n",
        "# Convert results to DataFrame\n",
        "df_results = pd.DataFrame(results)\n",
        "print(\"Model Comparison:\")\n",
        "print(df_results)"
      ],
      "metadata": {
        "colab": {
          "base_uri": "https://localhost:8080/"
        },
        "id": "avy-0SAGkXCT",
        "outputId": "6b304e00-336f-4e50-dfb0-8873aaceb1fe"
      },
      "execution_count": null,
      "outputs": [
        {
          "output_type": "stream",
          "name": "stdout",
          "text": [
            "Model Comparison:\n",
            "                 Model  Accuracy  Precision  Recall  F1-Score\n",
            "0                  SVM      0.58       0.63    0.58      0.58\n",
            "1             SVM-poly      0.61       0.66    0.61      0.61\n",
            "2           SVM-linear      0.71       0.71    0.71      0.70\n",
            "3  Logistic Regression      0.68       0.70    0.68      0.68\n",
            "4  K-Nearest Neighbors      0.48       0.60    0.48      0.47\n",
            "5        Random Forest      0.55       0.58    0.55      0.53\n"
          ]
        }
      ]
    },
    {
      "cell_type": "code",
      "source": [],
      "metadata": {
        "id": "mKD42QydkiOW"
      },
      "execution_count": null,
      "outputs": []
    },
    {
      "cell_type": "markdown",
      "source": [
        "## MobileNet"
      ],
      "metadata": {
        "id": "rWyXVA69ki7R"
      }
    },
    {
      "cell_type": "code",
      "source": [
        "results = []\n",
        "\n",
        "for name, model in models.items():\n",
        "    print(f\"Training {name}...\")\n",
        "    model.fit(train_mobilenet, train_labels)\n",
        "    preds = model.predict(test_mobilenet)\n",
        "\n",
        "    accuracy = accuracy_score(test_labels, preds)\n",
        "    report = classification_report(test_labels, preds, output_dict=True)\n",
        "\n",
        "\n",
        "    results.append({\n",
        "        \"Model\": name,\n",
        "        \"Accuracy\": round(accuracy, 2),\n",
        "        \"Precision\": round(report['weighted avg']['precision'], 2),\n",
        "        \"Recall\": round(report['weighted avg']['recall'], 2),\n",
        "        \"F1-Score\": round(report['weighted avg']['f1-score'], 2)\n",
        "    })\n",
        "\n",
        "    print(f\"\\n{name} Results:\")\n",
        "    print(f\"Accuracy: {accuracy:.2f}\")\n",
        "    print(classification_report(test_labels, preds))\n",
        "    print(\"-\" * 60)"
      ],
      "metadata": {
        "colab": {
          "base_uri": "https://localhost:8080/"
        },
        "id": "HseVye5Lkl9c",
        "outputId": "f51e45c5-0211-49bf-d92a-ad6e1885237e"
      },
      "execution_count": null,
      "outputs": [
        {
          "output_type": "stream",
          "name": "stdout",
          "text": [
            "Training SVM...\n",
            "\n",
            "SVM Results:\n",
            "Accuracy: 0.61\n",
            "              precision    recall  f1-score   support\n",
            "\n",
            "           0       0.50      0.60      0.55         5\n",
            "           1       0.33      0.75      0.46         4\n",
            "           2       1.00      0.40      0.57         5\n",
            "           3       0.75      0.75      0.75         4\n",
            "           4       1.00      0.40      0.57         5\n",
            "           5       0.75      0.75      0.75         8\n",
            "\n",
            "    accuracy                           0.61        31\n",
            "   macro avg       0.72      0.61      0.61        31\n",
            "weighted avg       0.74      0.61      0.62        31\n",
            "\n",
            "------------------------------------------------------------\n",
            "Training SVM-poly...\n",
            "\n",
            "SVM-poly Results:\n",
            "Accuracy: 0.55\n",
            "              precision    recall  f1-score   support\n",
            "\n",
            "           0       0.60      0.60      0.60         5\n",
            "           1       0.00      0.00      0.00         4\n",
            "           2       1.00      0.40      0.57         5\n",
            "           3       1.00      0.50      0.67         4\n",
            "           4       1.00      0.40      0.57         5\n",
            "           5       0.50      1.00      0.67         8\n",
            "\n",
            "    accuracy                           0.55        31\n",
            "   macro avg       0.68      0.48      0.51        31\n",
            "weighted avg       0.68      0.55      0.54        31\n",
            "\n",
            "------------------------------------------------------------\n",
            "Training SVM-linear...\n",
            "\n",
            "SVM-linear Results:\n",
            "Accuracy: 0.71\n",
            "              precision    recall  f1-score   support\n",
            "\n",
            "           0       0.75      0.60      0.67         5\n",
            "           1       0.43      0.75      0.55         4\n",
            "           2       0.75      0.60      0.67         5\n",
            "           3       1.00      0.50      0.67         4\n",
            "           4       0.83      1.00      0.91         5\n",
            "           5       0.75      0.75      0.75         8\n",
            "\n",
            "    accuracy                           0.71        31\n",
            "   macro avg       0.75      0.70      0.70        31\n",
            "weighted avg       0.75      0.71      0.71        31\n",
            "\n",
            "------------------------------------------------------------\n",
            "Training Logistic Regression...\n",
            "\n",
            "Logistic Regression Results:\n",
            "Accuracy: 0.61\n",
            "              precision    recall  f1-score   support\n",
            "\n",
            "           0       0.75      0.60      0.67         5\n",
            "           1       0.43      0.75      0.55         4\n",
            "           2       0.60      0.60      0.60         5\n",
            "           3       0.67      0.50      0.57         4\n",
            "           4       0.60      0.60      0.60         5\n",
            "           5       0.71      0.62      0.67         8\n",
            "\n",
            "    accuracy                           0.61        31\n",
            "   macro avg       0.63      0.61      0.61        31\n",
            "weighted avg       0.64      0.61      0.62        31\n",
            "\n",
            "------------------------------------------------------------\n",
            "Training K-Nearest Neighbors...\n",
            "\n",
            "K-Nearest Neighbors Results:\n",
            "Accuracy: 0.58\n",
            "              precision    recall  f1-score   support\n",
            "\n",
            "           0       0.60      0.60      0.60         5\n",
            "           1       0.33      0.75      0.46         4\n",
            "           2       1.00      0.40      0.57         5\n",
            "           3       0.50      0.75      0.60         4\n",
            "           4       0.67      0.40      0.50         5\n",
            "           5       0.83      0.62      0.71         8\n",
            "\n",
            "    accuracy                           0.58        31\n",
            "   macro avg       0.66      0.59      0.57        31\n",
            "weighted avg       0.69      0.58      0.59        31\n",
            "\n",
            "------------------------------------------------------------\n",
            "Training Random Forest...\n",
            "\n",
            "Random Forest Results:\n",
            "Accuracy: 0.58\n",
            "              precision    recall  f1-score   support\n",
            "\n",
            "           0       0.50      0.40      0.44         5\n",
            "           1       0.38      0.75      0.50         4\n",
            "           2       1.00      0.40      0.57         5\n",
            "           3       0.67      0.50      0.57         4\n",
            "           4       1.00      0.40      0.57         5\n",
            "           5       0.58      0.88      0.70         8\n",
            "\n",
            "    accuracy                           0.58        31\n",
            "   macro avg       0.69      0.55      0.56        31\n",
            "weighted avg       0.69      0.58      0.57        31\n",
            "\n",
            "------------------------------------------------------------\n"
          ]
        }
      ]
    },
    {
      "cell_type": "code",
      "source": [
        "import pandas as pd\n",
        "\n",
        "# Convert results to DataFrame\n",
        "df_results = pd.DataFrame(results)\n",
        "print(\"Model Comparison:\")\n",
        "print(df_results)"
      ],
      "metadata": {
        "colab": {
          "base_uri": "https://localhost:8080/"
        },
        "id": "I2KOTlFgkqGR",
        "outputId": "9fb9acb4-4f47-4f5d-83e1-1295e7957229"
      },
      "execution_count": null,
      "outputs": [
        {
          "output_type": "stream",
          "name": "stdout",
          "text": [
            "Model Comparison:\n",
            "                 Model  Accuracy  Precision  Recall  F1-Score\n",
            "0                  SVM      0.61       0.74    0.61      0.62\n",
            "1             SVM-poly      0.55       0.68    0.55      0.54\n",
            "2           SVM-linear      0.71       0.75    0.71      0.71\n",
            "3  Logistic Regression      0.61       0.64    0.61      0.62\n",
            "4  K-Nearest Neighbors      0.58       0.69    0.58      0.59\n",
            "5        Random Forest      0.58       0.69    0.58      0.57\n"
          ]
        }
      ]
    },
    {
      "cell_type": "code",
      "source": [],
      "metadata": {
        "id": "VeAdHTWwk1MT"
      },
      "execution_count": null,
      "outputs": []
    },
    {
      "cell_type": "markdown",
      "source": [
        "## DenseNet"
      ],
      "metadata": {
        "id": "BBmV8eluk497"
      }
    },
    {
      "cell_type": "code",
      "source": [
        "results = []\n",
        "\n",
        "for name, model in models.items():\n",
        "    print(f\"Training {name}...\")\n",
        "    model.fit(train_densenet, train_labels)\n",
        "    preds = model.predict(test_densenet)\n",
        "\n",
        "    accuracy = accuracy_score(test_labels, preds)\n",
        "    report = classification_report(test_labels, preds, output_dict=True)\n",
        "\n",
        "\n",
        "    results.append({\n",
        "        \"Model\": name,\n",
        "        \"Accuracy\": round(accuracy, 2),\n",
        "        \"Precision\": round(report['weighted avg']['precision'], 2),\n",
        "        \"Recall\": round(report['weighted avg']['recall'], 2),\n",
        "        \"F1-Score\": round(report['weighted avg']['f1-score'], 2)\n",
        "    })\n",
        "\n",
        "    print(f\"\\n{name} Results:\")\n",
        "    print(f\"Accuracy: {accuracy:.2f}\")\n",
        "    print(classification_report(test_labels, preds))\n",
        "    print(\"-\" * 60)"
      ],
      "metadata": {
        "colab": {
          "base_uri": "https://localhost:8080/"
        },
        "id": "vTOQ3tpQk7kU",
        "outputId": "da7bebec-8e7d-4649-e434-bcb4613d2924"
      },
      "execution_count": null,
      "outputs": [
        {
          "output_type": "stream",
          "name": "stdout",
          "text": [
            "Training SVM...\n",
            "\n",
            "SVM Results:\n",
            "Accuracy: 0.58\n",
            "              precision    recall  f1-score   support\n",
            "\n",
            "           0       0.50      0.20      0.29         5\n",
            "           1       0.30      0.75      0.43         4\n",
            "           2       0.67      0.40      0.50         5\n",
            "           3       0.67      0.50      0.57         4\n",
            "           4       1.00      0.60      0.75         5\n",
            "           5       0.70      0.88      0.78         8\n",
            "\n",
            "    accuracy                           0.58        31\n",
            "   macro avg       0.64      0.55      0.55        31\n",
            "weighted avg       0.65      0.58      0.58        31\n",
            "\n",
            "------------------------------------------------------------\n",
            "Training SVM-poly...\n",
            "\n",
            "SVM-poly Results:\n",
            "Accuracy: 0.65\n",
            "              precision    recall  f1-score   support\n",
            "\n",
            "           0       1.00      0.20      0.33         5\n",
            "           1       0.33      1.00      0.50         4\n",
            "           2       1.00      0.40      0.57         5\n",
            "           3       1.00      0.50      0.67         4\n",
            "           4       1.00      0.60      0.75         5\n",
            "           5       0.73      1.00      0.84         8\n",
            "\n",
            "    accuracy                           0.65        31\n",
            "   macro avg       0.84      0.62      0.61        31\n",
            "weighted avg       0.84      0.65      0.63        31\n",
            "\n",
            "------------------------------------------------------------\n",
            "Training SVM-linear...\n",
            "\n",
            "SVM-linear Results:\n",
            "Accuracy: 0.77\n",
            "              precision    recall  f1-score   support\n",
            "\n",
            "           0       0.57      0.80      0.67         5\n",
            "           1       0.40      0.50      0.44         4\n",
            "           2       0.75      0.60      0.67         5\n",
            "           3       1.00      0.75      0.86         4\n",
            "           4       1.00      0.80      0.89         5\n",
            "           5       1.00      1.00      1.00         8\n",
            "\n",
            "    accuracy                           0.77        31\n",
            "   macro avg       0.79      0.74      0.75        31\n",
            "weighted avg       0.81      0.77      0.78        31\n",
            "\n",
            "------------------------------------------------------------\n",
            "Training Logistic Regression...\n",
            "\n",
            "Logistic Regression Results:\n",
            "Accuracy: 0.77\n",
            "              precision    recall  f1-score   support\n",
            "\n",
            "           0       0.57      0.80      0.67         5\n",
            "           1       0.40      0.50      0.44         4\n",
            "           2       1.00      0.80      0.89         5\n",
            "           3       1.00      0.75      0.86         4\n",
            "           4       0.75      0.60      0.67         5\n",
            "           5       1.00      1.00      1.00         8\n",
            "\n",
            "    accuracy                           0.77        31\n",
            "   macro avg       0.79      0.74      0.75        31\n",
            "weighted avg       0.81      0.77      0.78        31\n",
            "\n",
            "------------------------------------------------------------\n",
            "Training K-Nearest Neighbors...\n",
            "\n",
            "K-Nearest Neighbors Results:\n",
            "Accuracy: 0.45\n",
            "              precision    recall  f1-score   support\n",
            "\n",
            "           0       0.67      0.40      0.50         5\n",
            "           1       0.17      0.50      0.25         4\n",
            "           2       0.40      0.40      0.40         5\n",
            "           3       0.67      0.50      0.57         4\n",
            "           4       0.50      0.40      0.44         5\n",
            "           5       1.00      0.50      0.67         8\n",
            "\n",
            "    accuracy                           0.45        31\n",
            "   macro avg       0.57      0.45      0.47        31\n",
            "weighted avg       0.62      0.45      0.49        31\n",
            "\n",
            "------------------------------------------------------------\n",
            "Training Random Forest...\n",
            "\n",
            "Random Forest Results:\n",
            "Accuracy: 0.61\n",
            "              precision    recall  f1-score   support\n",
            "\n",
            "           0       0.50      0.20      0.29         5\n",
            "           1       0.27      0.75      0.40         4\n",
            "           2       0.67      0.40      0.50         5\n",
            "           3       1.00      0.50      0.67         4\n",
            "           4       1.00      0.60      0.75         5\n",
            "           5       0.80      1.00      0.89         8\n",
            "\n",
            "    accuracy                           0.61        31\n",
            "   macro avg       0.71      0.58      0.58        31\n",
            "weighted avg       0.72      0.61      0.61        31\n",
            "\n",
            "------------------------------------------------------------\n"
          ]
        }
      ]
    },
    {
      "cell_type": "code",
      "source": [
        "import pandas as pd\n",
        "\n",
        "# Convert results to DataFrame\n",
        "df_results = pd.DataFrame(results)\n",
        "print(\"Model Comparison on DenseNet features:\")\n",
        "print(df_results)"
      ],
      "metadata": {
        "colab": {
          "base_uri": "https://localhost:8080/"
        },
        "id": "DFQCXccTlcY4",
        "outputId": "dcb6d15a-0153-41ed-91d7-437cffffb4d2"
      },
      "execution_count": null,
      "outputs": [
        {
          "output_type": "stream",
          "name": "stdout",
          "text": [
            "Model Comparison on DenseNet features:\n",
            "                 Model  Accuracy  Precision  Recall  F1-Score\n",
            "0                  SVM      0.58       0.65    0.58      0.58\n",
            "1             SVM-poly      0.65       0.84    0.65      0.63\n",
            "2           SVM-linear      0.77       0.81    0.77      0.78\n",
            "3  Logistic Regression      0.77       0.81    0.77      0.78\n",
            "4  K-Nearest Neighbors      0.45       0.62    0.45      0.49\n",
            "5        Random Forest      0.61       0.72    0.61      0.61\n"
          ]
        }
      ]
    },
    {
      "cell_type": "code",
      "source": [],
      "metadata": {
        "id": "wfLSjqo8mrgq"
      },
      "execution_count": null,
      "outputs": []
    },
    {
      "cell_type": "markdown",
      "source": [
        "# More models"
      ],
      "metadata": {
        "id": "Ws0RW-Rzmsj7"
      }
    },
    {
      "cell_type": "code",
      "source": [
        "import torchvision.models as models\n",
        "\n",
        "# Function to load pre-trained models\n",
        "def get_pretrained_model(name):\n",
        "    if name == \"resnext\":\n",
        "        model = models.resnext50_32x4d(pretrained=True)\n",
        "        model.fc = nn.Identity()  # Remove classification head\n",
        "    elif name == \"vgg16\":\n",
        "        model = models.vgg16(pretrained=True)\n",
        "        model.classifier[-1] = nn.Identity()  # Remove classification head\n",
        "    elif name == \"vgg19\":\n",
        "        model = models.vgg19(pretrained=True)\n",
        "        model.classifier[-1] = nn.Identity()\n",
        "    model.eval()\n",
        "    return model.to(device)\n",
        "\n",
        "# Load models\n",
        "resnext = get_pretrained_model(\"resnext\")\n",
        "vgg16 = get_pretrained_model(\"vgg16\")\n",
        "vgg19 = get_pretrained_model(\"vgg19\")"
      ],
      "metadata": {
        "colab": {
          "base_uri": "https://localhost:8080/"
        },
        "id": "bXgukbulmvsj",
        "outputId": "53aa247d-ada3-4e7d-a63f-a764e040eb79"
      },
      "execution_count": null,
      "outputs": [
        {
          "output_type": "stream",
          "name": "stderr",
          "text": [
            "/usr/local/lib/python3.11/dist-packages/torchvision/models/_utils.py:208: UserWarning: The parameter 'pretrained' is deprecated since 0.13 and may be removed in the future, please use 'weights' instead.\n",
            "  warnings.warn(\n",
            "/usr/local/lib/python3.11/dist-packages/torchvision/models/_utils.py:223: UserWarning: Arguments other than a weight enum or `None` for 'weights' are deprecated since 0.13 and may be removed in the future. The current behavior is equivalent to passing `weights=ResNeXt50_32X4D_Weights.IMAGENET1K_V1`. You can also use `weights=ResNeXt50_32X4D_Weights.DEFAULT` to get the most up-to-date weights.\n",
            "  warnings.warn(msg)\n",
            "Downloading: \"https://download.pytorch.org/models/resnext50_32x4d-7cdf4587.pth\" to /root/.cache/torch/hub/checkpoints/resnext50_32x4d-7cdf4587.pth\n",
            "100%|██████████| 95.8M/95.8M [00:01<00:00, 90.1MB/s]\n",
            "/usr/local/lib/python3.11/dist-packages/torchvision/models/_utils.py:223: UserWarning: Arguments other than a weight enum or `None` for 'weights' are deprecated since 0.13 and may be removed in the future. The current behavior is equivalent to passing `weights=VGG16_Weights.IMAGENET1K_V1`. You can also use `weights=VGG16_Weights.DEFAULT` to get the most up-to-date weights.\n",
            "  warnings.warn(msg)\n",
            "Downloading: \"https://download.pytorch.org/models/vgg16-397923af.pth\" to /root/.cache/torch/hub/checkpoints/vgg16-397923af.pth\n",
            "100%|██████████| 528M/528M [00:07<00:00, 73.8MB/s]\n",
            "/usr/local/lib/python3.11/dist-packages/torchvision/models/_utils.py:223: UserWarning: Arguments other than a weight enum or `None` for 'weights' are deprecated since 0.13 and may be removed in the future. The current behavior is equivalent to passing `weights=VGG19_Weights.IMAGENET1K_V1`. You can also use `weights=VGG19_Weights.DEFAULT` to get the most up-to-date weights.\n",
            "  warnings.warn(msg)\n",
            "Downloading: \"https://download.pytorch.org/models/vgg19-dcbb9e9d.pth\" to /root/.cache/torch/hub/checkpoints/vgg19-dcbb9e9d.pth\n",
            "100%|██████████| 548M/548M [00:07<00:00, 76.0MB/s]\n"
          ]
        }
      ]
    },
    {
      "cell_type": "code",
      "source": [
        "# Extract ResNeXt features\n",
        "train_resnext = extract_features(resnext, train_image_paths)\n",
        "test_resnext = extract_features(resnext, test_image_paths)\n",
        "\n",
        "# Extract VGG16 features\n",
        "train_vgg16 = extract_features(vgg16, train_image_paths)\n",
        "test_vgg16 = extract_features(vgg16, test_image_paths)\n",
        "\n",
        "# Extract VGG19 features\n",
        "train_vgg19 = extract_features(vgg19, train_image_paths)\n",
        "test_vgg19 = extract_features(vgg19, test_image_paths)\n",
        "\n",
        "print(f\"ResNeXt feature shape: {train_resnext.shape}\")  # (n_samples, 2048)\n",
        "print(f\"VGG16 feature shape: {train_vgg16.shape}\")      # (n_samples, 4096)\n",
        "print(f\"VGG19 feature shape: {train_vgg19.shape}\")      # (n_samples, 4096)"
      ],
      "metadata": {
        "colab": {
          "base_uri": "https://localhost:8080/"
        },
        "id": "SHCFJ1xwmzgc",
        "outputId": "26c49970-89e6-4d29-fd11-bc84c0de2a3b"
      },
      "execution_count": null,
      "outputs": [
        {
          "output_type": "stream",
          "name": "stderr",
          "text": [
            "Extracting features: 100%|██████████| 8/8 [02:02<00:00, 15.30s/it]\n",
            "Extracting features: 100%|██████████| 1/1 [00:15<00:00, 15.65s/it]\n",
            "Extracting features: 100%|██████████| 8/8 [02:54<00:00, 21.79s/it]\n",
            "Extracting features: 100%|██████████| 1/1 [00:18<00:00, 18.87s/it]\n",
            "Extracting features: 100%|██████████| 8/8 [02:41<00:00, 20.21s/it]\n",
            "Extracting features: 100%|██████████| 1/1 [00:24<00:00, 24.45s/it]"
          ]
        },
        {
          "output_type": "stream",
          "name": "stdout",
          "text": [
            "ResNeXt feature shape: (242, 2048)\n",
            "VGG16 feature shape: (242, 4096)\n",
            "VGG19 feature shape: (242, 4096)\n"
          ]
        },
        {
          "output_type": "stream",
          "name": "stderr",
          "text": [
            "\n"
          ]
        }
      ]
    },
    {
      "cell_type": "code",
      "source": [
        "models = {\n",
        "    # Traditional ML\n",
        "    \"SVM\": SVC(kernel='rbf', class_weight='balanced', probability=True, random_state=42),\n",
        "    \"SVM-poly\": SVC(kernel='poly', class_weight='balanced', probability=True, random_state=42),\n",
        "    \"SVM-linear\": SVC(kernel='linear', class_weight='balanced', probability=True, random_state=42),\n",
        "    \"Logistic Regression\": LogisticRegression(class_weight='balanced', max_iter=1000, random_state=42),\n",
        "    \"K-Nearest Neighbors\": KNeighborsClassifier(n_neighbors=5),\n",
        "\n",
        "    # Ensemble Learning\n",
        "    \"Random Forest\": RandomForestClassifier(n_estimators=100, class_weight='balanced', random_state=42),\n",
        "    # \"AdaBoost\": AdaBoostClassifier(\n",
        "    #     base_estimator=DecisionTreeClassifier(max_depth=1, class_weight='balanced'),\n",
        "    #     n_estimators=50,\n",
        "    #     random_state=42\n",
        "    # ),\n",
        "    # \"XGBoost\": XGBClassifier(\n",
        "    #     use_label_encoder=False,\n",
        "    #     eval_metric='mlogloss',\n",
        "    #     scale_pos_weight=1,  # Adjust if binary classification\n",
        "    #     random_state=42\n",
        "    # ),\n",
        "\n",
        "    # Meta-Ensemble\n",
        "    # \"Voting Classifier\": VotingClassifier(\n",
        "    #     estimators=[\n",
        "    #         ('svm', SVC(kernel='rbf', class_weight='balanced', probability=True)),\n",
        "    #         ('rf', RandomForestClassifier(n_estimators=100, class_weight='balanced')),\n",
        "    #         ('xgb', XGBClassifier(use_label_encoder=False, eval_metric='mlogloss'))\n",
        "    #     ],\n",
        "    #     voting='soft'\n",
        "    # )\n",
        "}"
      ],
      "metadata": {
        "id": "wQKpow83nNuI"
      },
      "execution_count": null,
      "outputs": []
    },
    {
      "cell_type": "markdown",
      "source": [
        "## Resnext"
      ],
      "metadata": {
        "id": "2kh1x5PTnSlL"
      }
    },
    {
      "cell_type": "code",
      "source": [
        "results = []\n",
        "\n",
        "for name, model in models.items():\n",
        "    print(f\"Training {name}...\")\n",
        "    model.fit(train_resnext, train_labels)\n",
        "    preds = model.predict(test_resnext)\n",
        "\n",
        "    accuracy = accuracy_score(test_labels, preds)\n",
        "    report = classification_report(test_labels, preds, output_dict=True)\n",
        "\n",
        "\n",
        "    results.append({\n",
        "        \"Model\": name,\n",
        "        \"Accuracy\": round(accuracy, 2),\n",
        "        \"Precision\": round(report['weighted avg']['precision'], 2),\n",
        "        \"Recall\": round(report['weighted avg']['recall'], 2),\n",
        "        \"F1-Score\": round(report['weighted avg']['f1-score'], 2)\n",
        "    })\n",
        "\n",
        "    print(f\"\\n{name} Results:\")\n",
        "    print(f\"Accuracy: {accuracy:.2f}\")\n",
        "    print(classification_report(test_labels, preds))\n",
        "    print(\"-\" * 60)"
      ],
      "metadata": {
        "colab": {
          "base_uri": "https://localhost:8080/"
        },
        "id": "oCR17NjwnpWn",
        "outputId": "b8893274-5f17-4d0c-e84a-f6bb4019c8c7"
      },
      "execution_count": null,
      "outputs": [
        {
          "output_type": "stream",
          "name": "stdout",
          "text": [
            "Training SVM...\n",
            "\n",
            "SVM Results:\n",
            "Accuracy: 0.45\n",
            "              precision    recall  f1-score   support\n",
            "\n",
            "           0       0.25      0.20      0.22         5\n",
            "           1       0.44      1.00      0.62         4\n",
            "           2       0.25      0.20      0.22         5\n",
            "           3       0.40      0.50      0.44         4\n",
            "           4       1.00      0.40      0.57         5\n",
            "           5       0.57      0.50      0.53         8\n",
            "\n",
            "    accuracy                           0.45        31\n",
            "   macro avg       0.49      0.47      0.43        31\n",
            "weighted avg       0.50      0.45      0.44        31\n",
            "\n",
            "------------------------------------------------------------\n",
            "Training SVM-poly...\n",
            "\n",
            "SVM-poly Results:\n",
            "Accuracy: 0.61\n",
            "              precision    recall  f1-score   support\n",
            "\n",
            "           0       0.40      0.40      0.40         5\n",
            "           1       0.60      0.75      0.67         4\n",
            "           2       1.00      0.40      0.57         5\n",
            "           3       1.00      0.50      0.67         4\n",
            "           4       1.00      0.40      0.57         5\n",
            "           5       0.53      1.00      0.70         8\n",
            "\n",
            "    accuracy                           0.61        31\n",
            "   macro avg       0.76      0.57      0.60        31\n",
            "weighted avg       0.73      0.61      0.60        31\n",
            "\n",
            "------------------------------------------------------------\n",
            "Training SVM-linear...\n",
            "\n",
            "SVM-linear Results:\n",
            "Accuracy: 0.65\n",
            "              precision    recall  f1-score   support\n",
            "\n",
            "           0       0.60      0.60      0.60         5\n",
            "           1       0.40      0.50      0.44         4\n",
            "           2       0.67      0.80      0.73         5\n",
            "           3       0.60      0.75      0.67         4\n",
            "           4       0.67      0.40      0.50         5\n",
            "           5       0.86      0.75      0.80         8\n",
            "\n",
            "    accuracy                           0.65        31\n",
            "   macro avg       0.63      0.63      0.62        31\n",
            "weighted avg       0.66      0.65      0.64        31\n",
            "\n",
            "------------------------------------------------------------\n",
            "Training Logistic Regression...\n",
            "\n",
            "Logistic Regression Results:\n",
            "Accuracy: 0.58\n",
            "              precision    recall  f1-score   support\n",
            "\n",
            "           0       0.67      0.40      0.50         5\n",
            "           1       0.50      0.75      0.60         4\n",
            "           2       0.75      0.60      0.67         5\n",
            "           3       0.40      0.50      0.44         4\n",
            "           4       0.50      0.60      0.55         5\n",
            "           5       0.71      0.62      0.67         8\n",
            "\n",
            "    accuracy                           0.58        31\n",
            "   macro avg       0.59      0.58      0.57        31\n",
            "weighted avg       0.61      0.58      0.58        31\n",
            "\n",
            "------------------------------------------------------------\n",
            "Training K-Nearest Neighbors...\n",
            "\n",
            "K-Nearest Neighbors Results:\n",
            "Accuracy: 0.52\n",
            "              precision    recall  f1-score   support\n",
            "\n",
            "           0       0.43      0.60      0.50         5\n",
            "           1       0.44      1.00      0.62         4\n",
            "           2       1.00      0.40      0.57         5\n",
            "           3       0.50      0.50      0.50         4\n",
            "           4       0.40      0.40      0.40         5\n",
            "           5       0.75      0.38      0.50         8\n",
            "\n",
            "    accuracy                           0.52        31\n",
            "   macro avg       0.59      0.55      0.51        31\n",
            "weighted avg       0.61      0.52      0.51        31\n",
            "\n",
            "------------------------------------------------------------\n",
            "Training Random Forest...\n",
            "\n",
            "Random Forest Results:\n",
            "Accuracy: 0.61\n",
            "              precision    recall  f1-score   support\n",
            "\n",
            "           0       0.50      0.20      0.29         5\n",
            "           1       0.38      0.75      0.50         4\n",
            "           2       0.75      0.60      0.67         5\n",
            "           3       1.00      0.50      0.67         4\n",
            "           4       0.60      0.60      0.60         5\n",
            "           5       0.70      0.88      0.78         8\n",
            "\n",
            "    accuracy                           0.61        31\n",
            "   macro avg       0.65      0.59      0.58        31\n",
            "weighted avg       0.66      0.61      0.60        31\n",
            "\n",
            "------------------------------------------------------------\n"
          ]
        }
      ]
    },
    {
      "cell_type": "code",
      "source": [
        "import pandas as pd\n",
        "\n",
        "# Convert results to DataFrame\n",
        "df_results = pd.DataFrame(results)\n",
        "print(\"Model Comparison on Resnext features:\")\n",
        "print(df_results)"
      ],
      "metadata": {
        "colab": {
          "base_uri": "https://localhost:8080/"
        },
        "id": "5aLMSVsVnVco",
        "outputId": "7d9a5929-1cfc-4f55-eca6-ccc39893d37f"
      },
      "execution_count": null,
      "outputs": [
        {
          "output_type": "stream",
          "name": "stdout",
          "text": [
            "Model Comparison on Resnext features:\n",
            "                 Model  Accuracy  Precision  Recall  F1-Score\n",
            "0                  SVM      0.45       0.50    0.45      0.44\n",
            "1             SVM-poly      0.61       0.73    0.61      0.60\n",
            "2           SVM-linear      0.65       0.66    0.65      0.64\n",
            "3  Logistic Regression      0.58       0.61    0.58      0.58\n",
            "4  K-Nearest Neighbors      0.52       0.61    0.52      0.51\n",
            "5        Random Forest      0.61       0.66    0.61      0.60\n"
          ]
        }
      ]
    },
    {
      "cell_type": "markdown",
      "source": [
        "## VGG16"
      ],
      "metadata": {
        "id": "tHDlwnMan2Ym"
      }
    },
    {
      "cell_type": "code",
      "source": [
        "results = []\n",
        "\n",
        "for name, model in models.items():\n",
        "    print(f\"Training {name}...\")\n",
        "    model.fit(train_vgg16, train_labels)\n",
        "    preds = model.predict(test_vgg16)\n",
        "\n",
        "    accuracy = accuracy_score(test_labels, preds)\n",
        "    report = classification_report(test_labels, preds, output_dict=True)\n",
        "\n",
        "\n",
        "    results.append({\n",
        "        \"Model\": name,\n",
        "        \"Accuracy\": round(accuracy, 2),\n",
        "        \"Precision\": round(report['weighted avg']['precision'], 2),\n",
        "        \"Recall\": round(report['weighted avg']['recall'], 2),\n",
        "        \"F1-Score\": round(report['weighted avg']['f1-score'], 2)\n",
        "    })\n",
        "\n",
        "    print(f\"\\n{name} Results:\")\n",
        "    print(f\"Accuracy: {accuracy:.2f}\")\n",
        "    print(classification_report(test_labels, preds))\n",
        "    print(\"-\" * 60)"
      ],
      "metadata": {
        "colab": {
          "base_uri": "https://localhost:8080/"
        },
        "id": "RhimI4x5n8Kj",
        "outputId": "b91a9f6e-a70b-4b50-9761-ef613b553759"
      },
      "execution_count": null,
      "outputs": [
        {
          "output_type": "stream",
          "name": "stdout",
          "text": [
            "Training SVM...\n",
            "\n",
            "SVM Results:\n",
            "Accuracy: 0.65\n",
            "              precision    recall  f1-score   support\n",
            "\n",
            "           0       0.67      0.80      0.73         5\n",
            "           1       0.38      0.75      0.50         4\n",
            "           2       0.50      0.40      0.44         5\n",
            "           3       1.00      0.75      0.86         4\n",
            "           4       1.00      0.40      0.57         5\n",
            "           5       0.75      0.75      0.75         8\n",
            "\n",
            "    accuracy                           0.65        31\n",
            "   macro avg       0.72      0.64      0.64        31\n",
            "weighted avg       0.72      0.65      0.65        31\n",
            "\n",
            "------------------------------------------------------------\n",
            "Training SVM-poly...\n",
            "\n",
            "SVM-poly Results:\n",
            "Accuracy: 0.68\n",
            "              precision    recall  f1-score   support\n",
            "\n",
            "           0       0.75      0.60      0.67         5\n",
            "           1       0.38      0.75      0.50         4\n",
            "           2       0.60      0.60      0.60         5\n",
            "           3       1.00      0.75      0.86         4\n",
            "           4       1.00      0.60      0.75         5\n",
            "           5       0.75      0.75      0.75         8\n",
            "\n",
            "    accuracy                           0.68        31\n",
            "   macro avg       0.75      0.68      0.69        31\n",
            "weighted avg       0.75      0.68      0.69        31\n",
            "\n",
            "------------------------------------------------------------\n",
            "Training SVM-linear...\n",
            "\n",
            "SVM-linear Results:\n",
            "Accuracy: 0.68\n",
            "              precision    recall  f1-score   support\n",
            "\n",
            "           0       0.67      0.80      0.73         5\n",
            "           1       0.43      0.75      0.55         4\n",
            "           2       1.00      0.20      0.33         5\n",
            "           3       1.00      0.75      0.86         4\n",
            "           4       0.60      0.60      0.60         5\n",
            "           5       0.78      0.88      0.82         8\n",
            "\n",
            "    accuracy                           0.68        31\n",
            "   macro avg       0.75      0.66      0.65        31\n",
            "weighted avg       0.75      0.68      0.66        31\n",
            "\n",
            "------------------------------------------------------------\n",
            "Training Logistic Regression...\n",
            "\n",
            "Logistic Regression Results:\n",
            "Accuracy: 0.74\n",
            "              precision    recall  f1-score   support\n",
            "\n",
            "           0       0.80      0.80      0.80         5\n",
            "           1       0.50      0.75      0.60         4\n",
            "           2       0.67      0.40      0.50         5\n",
            "           3       1.00      0.75      0.86         4\n",
            "           4       1.00      0.60      0.75         5\n",
            "           5       0.73      1.00      0.84         8\n",
            "\n",
            "    accuracy                           0.74        31\n",
            "   macro avg       0.78      0.72      0.72        31\n",
            "weighted avg       0.78      0.74      0.74        31\n",
            "\n",
            "------------------------------------------------------------\n",
            "Training K-Nearest Neighbors...\n",
            "\n",
            "K-Nearest Neighbors Results:\n",
            "Accuracy: 0.45\n",
            "              precision    recall  f1-score   support\n",
            "\n",
            "           0       0.50      0.60      0.55         5\n",
            "           1       0.30      0.75      0.43         4\n",
            "           2       0.50      0.20      0.29         5\n",
            "           3       1.00      0.25      0.40         4\n",
            "           4       0.33      0.40      0.36         5\n",
            "           5       0.67      0.50      0.57         8\n",
            "\n",
            "    accuracy                           0.45        31\n",
            "   macro avg       0.55      0.45      0.43        31\n",
            "weighted avg       0.55      0.45      0.45        31\n",
            "\n",
            "------------------------------------------------------------\n",
            "Training Random Forest...\n",
            "\n",
            "Random Forest Results:\n",
            "Accuracy: 0.65\n",
            "              precision    recall  f1-score   support\n",
            "\n",
            "           0       0.75      0.60      0.67         5\n",
            "           1       0.38      0.75      0.50         4\n",
            "           2       0.67      0.40      0.50         5\n",
            "           3       1.00      0.50      0.67         4\n",
            "           4       1.00      0.60      0.75         5\n",
            "           5       0.64      0.88      0.74         8\n",
            "\n",
            "    accuracy                           0.65        31\n",
            "   macro avg       0.74      0.62      0.64        31\n",
            "weighted avg       0.73      0.65      0.65        31\n",
            "\n",
            "------------------------------------------------------------\n"
          ]
        }
      ]
    },
    {
      "cell_type": "code",
      "source": [
        "import pandas as pd\n",
        "\n",
        "# Convert results to DataFrame\n",
        "df_results = pd.DataFrame(results)\n",
        "print(\"Model Comparison on VGG16 features:\")\n",
        "print(df_results)"
      ],
      "metadata": {
        "colab": {
          "base_uri": "https://localhost:8080/"
        },
        "id": "GxQOD2FDn8kJ",
        "outputId": "862ee9aa-95a4-45aa-b8fc-2a4e55481de2"
      },
      "execution_count": null,
      "outputs": [
        {
          "output_type": "stream",
          "name": "stdout",
          "text": [
            "Model Comparison on VGG16 features:\n",
            "                 Model  Accuracy  Precision  Recall  F1-Score\n",
            "0                  SVM      0.65       0.72    0.65      0.65\n",
            "1             SVM-poly      0.68       0.75    0.68      0.69\n",
            "2           SVM-linear      0.68       0.75    0.68      0.66\n",
            "3  Logistic Regression      0.74       0.78    0.74      0.74\n",
            "4  K-Nearest Neighbors      0.45       0.55    0.45      0.45\n",
            "5        Random Forest      0.65       0.73    0.65      0.65\n"
          ]
        }
      ]
    },
    {
      "cell_type": "markdown",
      "source": [
        "## VGG19"
      ],
      "metadata": {
        "id": "oGmSbexCoo6A"
      }
    },
    {
      "cell_type": "code",
      "source": [
        "results = []\n",
        "\n",
        "for name, model in models.items():\n",
        "    print(f\"Training {name}...\")\n",
        "    model.fit(train_vgg19, train_labels)\n",
        "    preds = model.predict(test_vgg19)\n",
        "\n",
        "    accuracy = accuracy_score(test_labels, preds)\n",
        "    report = classification_report(test_labels, preds, output_dict=True)\n",
        "\n",
        "\n",
        "    results.append({\n",
        "        \"Model\": name,\n",
        "        \"Accuracy\": round(accuracy, 2),\n",
        "        \"Precision\": round(report['weighted avg']['precision'], 2),\n",
        "        \"Recall\": round(report['weighted avg']['recall'], 2),\n",
        "        \"F1-Score\": round(report['weighted avg']['f1-score'], 2)\n",
        "    })\n",
        "\n",
        "    print(f\"\\n{name} Results:\")\n",
        "    print(f\"Accuracy: {accuracy:.2f}\")\n",
        "    print(classification_report(test_labels, preds))\n",
        "    print(\"-\" * 60)"
      ],
      "metadata": {
        "colab": {
          "base_uri": "https://localhost:8080/"
        },
        "id": "lqZk_oh9okT0",
        "outputId": "f140c602-6bbf-49c5-cf8e-f1bc98757085"
      },
      "execution_count": null,
      "outputs": [
        {
          "output_type": "stream",
          "name": "stdout",
          "text": [
            "Training SVM...\n",
            "\n",
            "SVM Results:\n",
            "Accuracy: 0.65\n",
            "              precision    recall  f1-score   support\n",
            "\n",
            "           0       0.60      0.60      0.60         5\n",
            "           1       0.44      1.00      0.62         4\n",
            "           2       0.50      0.40      0.44         5\n",
            "           3       0.80      1.00      0.89         4\n",
            "           4       1.00      0.40      0.57         5\n",
            "           5       0.83      0.62      0.71         8\n",
            "\n",
            "    accuracy                           0.65        31\n",
            "   macro avg       0.70      0.67      0.64        31\n",
            "weighted avg       0.71      0.65      0.64        31\n",
            "\n",
            "------------------------------------------------------------\n",
            "Training SVM-poly...\n",
            "\n",
            "SVM-poly Results:\n",
            "Accuracy: 0.74\n",
            "              precision    recall  f1-score   support\n",
            "\n",
            "           0       1.00      0.80      0.89         5\n",
            "           1       0.44      1.00      0.62         4\n",
            "           2       0.67      0.40      0.50         5\n",
            "           3       0.80      1.00      0.89         4\n",
            "           4       1.00      0.60      0.75         5\n",
            "           5       0.86      0.75      0.80         8\n",
            "\n",
            "    accuracy                           0.74        31\n",
            "   macro avg       0.79      0.76      0.74        31\n",
            "weighted avg       0.81      0.74      0.75        31\n",
            "\n",
            "------------------------------------------------------------\n",
            "Training SVM-linear...\n",
            "\n",
            "SVM-linear Results:\n",
            "Accuracy: 0.71\n",
            "              precision    recall  f1-score   support\n",
            "\n",
            "           0       0.67      0.80      0.73         5\n",
            "           1       0.60      0.75      0.67         4\n",
            "           2       0.50      0.40      0.44         5\n",
            "           3       1.00      0.75      0.86         4\n",
            "           4       0.60      0.60      0.60         5\n",
            "           5       0.88      0.88      0.88         8\n",
            "\n",
            "    accuracy                           0.71        31\n",
            "   macro avg       0.71      0.70      0.70        31\n",
            "weighted avg       0.72      0.71      0.71        31\n",
            "\n",
            "------------------------------------------------------------\n",
            "Training Logistic Regression...\n",
            "\n",
            "Logistic Regression Results:\n",
            "Accuracy: 0.71\n",
            "              precision    recall  f1-score   support\n",
            "\n",
            "           0       0.67      0.80      0.73         5\n",
            "           1       0.60      0.75      0.67         4\n",
            "           2       0.50      0.20      0.29         5\n",
            "           3       0.75      0.75      0.75         4\n",
            "           4       1.00      0.80      0.89         5\n",
            "           5       0.70      0.88      0.78         8\n",
            "\n",
            "    accuracy                           0.71        31\n",
            "   macro avg       0.70      0.70      0.68        31\n",
            "weighted avg       0.70      0.71      0.69        31\n",
            "\n",
            "------------------------------------------------------------\n",
            "Training K-Nearest Neighbors...\n",
            "\n",
            "K-Nearest Neighbors Results:\n",
            "Accuracy: 0.58\n",
            "              precision    recall  f1-score   support\n",
            "\n",
            "           0       0.67      0.80      0.73         5\n",
            "           1       0.44      1.00      0.62         4\n",
            "           2       0.50      0.40      0.44         5\n",
            "           3       1.00      0.25      0.40         4\n",
            "           4       0.50      0.40      0.44         5\n",
            "           5       0.71      0.62      0.67         8\n",
            "\n",
            "    accuracy                           0.58        31\n",
            "   macro avg       0.64      0.58      0.55        31\n",
            "weighted avg       0.64      0.58      0.56        31\n",
            "\n",
            "------------------------------------------------------------\n",
            "Training Random Forest...\n",
            "\n",
            "Random Forest Results:\n",
            "Accuracy: 0.58\n",
            "              precision    recall  f1-score   support\n",
            "\n",
            "           0       0.50      0.60      0.55         5\n",
            "           1       0.25      0.50      0.33         4\n",
            "           2       0.67      0.40      0.50         5\n",
            "           3       1.00      0.50      0.67         4\n",
            "           4       1.00      0.60      0.75         5\n",
            "           5       0.67      0.75      0.71         8\n",
            "\n",
            "    accuracy                           0.58        31\n",
            "   macro avg       0.68      0.56      0.58        31\n",
            "weighted avg       0.68      0.58      0.60        31\n",
            "\n",
            "------------------------------------------------------------\n"
          ]
        }
      ]
    },
    {
      "cell_type": "code",
      "source": [
        "import pandas as pd\n",
        "\n",
        "# Convert results to DataFrame\n",
        "df_results = pd.DataFrame(results)\n",
        "print(\"Model Comparison on VGG19 features:\")\n",
        "print(df_results)"
      ],
      "metadata": {
        "colab": {
          "base_uri": "https://localhost:8080/"
        },
        "id": "OdZgaMEBovBe",
        "outputId": "5f74d94c-981d-4146-8178-9c66729b8062"
      },
      "execution_count": null,
      "outputs": [
        {
          "output_type": "stream",
          "name": "stdout",
          "text": [
            "Model Comparison on VGG19 features:\n",
            "                 Model  Accuracy  Precision  Recall  F1-Score\n",
            "0                  SVM      0.65       0.71    0.65      0.64\n",
            "1             SVM-poly      0.74       0.81    0.74      0.75\n",
            "2           SVM-linear      0.71       0.72    0.71      0.71\n",
            "3  Logistic Regression      0.71       0.70    0.71      0.69\n",
            "4  K-Nearest Neighbors      0.58       0.64    0.58      0.56\n",
            "5        Random Forest      0.58       0.68    0.58      0.60\n"
          ]
        }
      ]
    },
    {
      "cell_type": "code",
      "source": [],
      "metadata": {
        "id": "huKNWK4y1Frf"
      },
      "execution_count": null,
      "outputs": []
    }
  ]
}